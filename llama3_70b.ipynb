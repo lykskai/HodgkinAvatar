{
  "cells": [
    {
      "cell_type": "markdown",
      "metadata": {
        "id": "view-in-github",
        "colab_type": "text"
      },
      "source": [
        "<a href=\"https://colab.research.google.com/github/lykskai/HodgkinAvatar/blob/main/llama3_70b.ipynb\" target=\"_parent\"><img src=\"https://colab.research.google.com/assets/colab-badge.svg\" alt=\"Open In Colab\"/></a>"
      ]
    },
    {
      "cell_type": "markdown",
      "source": [
        "# 0.1) Pre-requisites: Download the required modules."
      ],
      "metadata": {
        "id": "TonC_OYyW_st"
      }
    },
    {
      "cell_type": "code",
      "execution_count": 57,
      "metadata": {
        "colab": {
          "base_uri": "https://localhost:8080/"
        },
        "id": "QQ_j7ClMU5Qo",
        "outputId": "546628f9-665c-4e81-d338-1cb9fd2cf6ae"
      },
      "outputs": [
        {
          "output_type": "stream",
          "name": "stdout",
          "text": [
            "Requirement already satisfied: langchain in /usr/local/lib/python3.11/dist-packages (0.3.21)\n",
            "Requirement already satisfied: langchain_community in /usr/local/lib/python3.11/dist-packages (0.3.20)\n",
            "Requirement already satisfied: faiss-cpu in /usr/local/lib/python3.11/dist-packages (1.10.0)\n",
            "Requirement already satisfied: sentence-transformers in /usr/local/lib/python3.11/dist-packages (3.4.1)\n",
            "Requirement already satisfied: openai in /usr/local/lib/python3.11/dist-packages (1.61.1)\n",
            "Requirement already satisfied: groq in /usr/local/lib/python3.11/dist-packages (0.19.0)\n",
            "Requirement already satisfied: numpy in /usr/local/lib/python3.11/dist-packages (2.0.2)\n",
            "Requirement already satisfied: pypdf in /usr/local/lib/python3.11/dist-packages (5.4.0)\n",
            "Requirement already satisfied: edge-tts in /usr/local/lib/python3.11/dist-packages (7.0.0)\n",
            "Requirement already satisfied: langchain-core<1.0.0,>=0.3.45 in /usr/local/lib/python3.11/dist-packages (from langchain) (0.3.45)\n",
            "Requirement already satisfied: langchain-text-splitters<1.0.0,>=0.3.7 in /usr/local/lib/python3.11/dist-packages (from langchain) (0.3.7)\n",
            "Requirement already satisfied: langsmith<0.4,>=0.1.17 in /usr/local/lib/python3.11/dist-packages (from langchain) (0.3.13)\n",
            "Requirement already satisfied: pydantic<3.0.0,>=2.7.4 in /usr/local/lib/python3.11/dist-packages (from langchain) (2.10.6)\n",
            "Requirement already satisfied: SQLAlchemy<3,>=1.4 in /usr/local/lib/python3.11/dist-packages (from langchain) (2.0.39)\n",
            "Requirement already satisfied: requests<3,>=2 in /usr/local/lib/python3.11/dist-packages (from langchain) (2.32.3)\n",
            "Requirement already satisfied: PyYAML>=5.3 in /usr/local/lib/python3.11/dist-packages (from langchain) (6.0.2)\n",
            "Requirement already satisfied: aiohttp<4.0.0,>=3.8.3 in /usr/local/lib/python3.11/dist-packages (from langchain_community) (3.11.13)\n",
            "Requirement already satisfied: tenacity!=8.4.0,<10,>=8.1.0 in /usr/local/lib/python3.11/dist-packages (from langchain_community) (9.0.0)\n",
            "Requirement already satisfied: dataclasses-json<0.7,>=0.5.7 in /usr/local/lib/python3.11/dist-packages (from langchain_community) (0.6.7)\n",
            "Requirement already satisfied: pydantic-settings<3.0.0,>=2.4.0 in /usr/local/lib/python3.11/dist-packages (from langchain_community) (2.8.1)\n",
            "Requirement already satisfied: httpx-sse<1.0.0,>=0.4.0 in /usr/local/lib/python3.11/dist-packages (from langchain_community) (0.4.0)\n",
            "Requirement already satisfied: packaging in /usr/local/lib/python3.11/dist-packages (from faiss-cpu) (24.2)\n",
            "Requirement already satisfied: transformers<5.0.0,>=4.41.0 in /usr/local/lib/python3.11/dist-packages (from sentence-transformers) (4.48.3)\n",
            "Requirement already satisfied: tqdm in /usr/local/lib/python3.11/dist-packages (from sentence-transformers) (4.67.1)\n",
            "Requirement already satisfied: torch>=1.11.0 in /usr/local/lib/python3.11/dist-packages (from sentence-transformers) (2.6.0+cu124)\n",
            "Requirement already satisfied: scikit-learn in /usr/local/lib/python3.11/dist-packages (from sentence-transformers) (1.6.1)\n",
            "Requirement already satisfied: scipy in /usr/local/lib/python3.11/dist-packages (from sentence-transformers) (1.14.1)\n",
            "Requirement already satisfied: huggingface-hub>=0.20.0 in /usr/local/lib/python3.11/dist-packages (from sentence-transformers) (0.28.1)\n",
            "Requirement already satisfied: Pillow in /usr/local/lib/python3.11/dist-packages (from sentence-transformers) (11.1.0)\n",
            "Requirement already satisfied: anyio<5,>=3.5.0 in /usr/local/lib/python3.11/dist-packages (from openai) (3.7.1)\n",
            "Requirement already satisfied: distro<2,>=1.7.0 in /usr/local/lib/python3.11/dist-packages (from openai) (1.9.0)\n",
            "Requirement already satisfied: httpx<1,>=0.23.0 in /usr/local/lib/python3.11/dist-packages (from openai) (0.28.1)\n",
            "Requirement already satisfied: jiter<1,>=0.4.0 in /usr/local/lib/python3.11/dist-packages (from openai) (0.9.0)\n",
            "Requirement already satisfied: sniffio in /usr/local/lib/python3.11/dist-packages (from openai) (1.3.1)\n",
            "Requirement already satisfied: typing-extensions<5,>=4.11 in /usr/local/lib/python3.11/dist-packages (from openai) (4.12.2)\n",
            "Requirement already satisfied: certifi>=2023.11.17 in /usr/local/lib/python3.11/dist-packages (from edge-tts) (2025.1.31)\n",
            "Requirement already satisfied: srt<4.0.0,>=3.4.1 in /usr/local/lib/python3.11/dist-packages (from edge-tts) (3.5.3)\n",
            "Requirement already satisfied: tabulate<1.0.0,>=0.4.4 in /usr/local/lib/python3.11/dist-packages (from edge-tts) (0.9.0)\n",
            "Requirement already satisfied: aiohappyeyeballs>=2.3.0 in /usr/local/lib/python3.11/dist-packages (from aiohttp<4.0.0,>=3.8.3->langchain_community) (2.6.1)\n",
            "Requirement already satisfied: aiosignal>=1.1.2 in /usr/local/lib/python3.11/dist-packages (from aiohttp<4.0.0,>=3.8.3->langchain_community) (1.3.2)\n",
            "Requirement already satisfied: attrs>=17.3.0 in /usr/local/lib/python3.11/dist-packages (from aiohttp<4.0.0,>=3.8.3->langchain_community) (25.3.0)\n",
            "Requirement already satisfied: frozenlist>=1.1.1 in /usr/local/lib/python3.11/dist-packages (from aiohttp<4.0.0,>=3.8.3->langchain_community) (1.5.0)\n",
            "Requirement already satisfied: multidict<7.0,>=4.5 in /usr/local/lib/python3.11/dist-packages (from aiohttp<4.0.0,>=3.8.3->langchain_community) (6.1.0)\n",
            "Requirement already satisfied: propcache>=0.2.0 in /usr/local/lib/python3.11/dist-packages (from aiohttp<4.0.0,>=3.8.3->langchain_community) (0.3.0)\n",
            "Requirement already satisfied: yarl<2.0,>=1.17.0 in /usr/local/lib/python3.11/dist-packages (from aiohttp<4.0.0,>=3.8.3->langchain_community) (1.18.3)\n",
            "Requirement already satisfied: idna>=2.8 in /usr/local/lib/python3.11/dist-packages (from anyio<5,>=3.5.0->openai) (3.10)\n",
            "Requirement already satisfied: marshmallow<4.0.0,>=3.18.0 in /usr/local/lib/python3.11/dist-packages (from dataclasses-json<0.7,>=0.5.7->langchain_community) (3.26.1)\n",
            "Requirement already satisfied: typing-inspect<1,>=0.4.0 in /usr/local/lib/python3.11/dist-packages (from dataclasses-json<0.7,>=0.5.7->langchain_community) (0.9.0)\n",
            "Requirement already satisfied: httpcore==1.* in /usr/local/lib/python3.11/dist-packages (from httpx<1,>=0.23.0->openai) (1.0.7)\n",
            "Requirement already satisfied: h11<0.15,>=0.13 in /usr/local/lib/python3.11/dist-packages (from httpcore==1.*->httpx<1,>=0.23.0->openai) (0.14.0)\n",
            "Requirement already satisfied: filelock in /usr/local/lib/python3.11/dist-packages (from huggingface-hub>=0.20.0->sentence-transformers) (3.17.0)\n",
            "Requirement already satisfied: fsspec>=2023.5.0 in /usr/local/lib/python3.11/dist-packages (from huggingface-hub>=0.20.0->sentence-transformers) (2024.10.0)\n",
            "Requirement already satisfied: jsonpatch<2.0,>=1.33 in /usr/local/lib/python3.11/dist-packages (from langchain-core<1.0.0,>=0.3.45->langchain) (1.33)\n",
            "Requirement already satisfied: orjson<4.0.0,>=3.9.14 in /usr/local/lib/python3.11/dist-packages (from langsmith<0.4,>=0.1.17->langchain) (3.10.15)\n",
            "Requirement already satisfied: requests-toolbelt<2.0.0,>=1.0.0 in /usr/local/lib/python3.11/dist-packages (from langsmith<0.4,>=0.1.17->langchain) (1.0.0)\n",
            "Requirement already satisfied: zstandard<0.24.0,>=0.23.0 in /usr/local/lib/python3.11/dist-packages (from langsmith<0.4,>=0.1.17->langchain) (0.23.0)\n",
            "Requirement already satisfied: annotated-types>=0.6.0 in /usr/local/lib/python3.11/dist-packages (from pydantic<3.0.0,>=2.7.4->langchain) (0.7.0)\n",
            "Requirement already satisfied: pydantic-core==2.27.2 in /usr/local/lib/python3.11/dist-packages (from pydantic<3.0.0,>=2.7.4->langchain) (2.27.2)\n",
            "Requirement already satisfied: python-dotenv>=0.21.0 in /usr/local/lib/python3.11/dist-packages (from pydantic-settings<3.0.0,>=2.4.0->langchain_community) (1.0.1)\n",
            "Requirement already satisfied: charset-normalizer<4,>=2 in /usr/local/lib/python3.11/dist-packages (from requests<3,>=2->langchain) (3.4.1)\n",
            "Requirement already satisfied: urllib3<3,>=1.21.1 in /usr/local/lib/python3.11/dist-packages (from requests<3,>=2->langchain) (2.3.0)\n",
            "Requirement already satisfied: greenlet!=0.4.17 in /usr/local/lib/python3.11/dist-packages (from SQLAlchemy<3,>=1.4->langchain) (3.1.1)\n",
            "Requirement already satisfied: networkx in /usr/local/lib/python3.11/dist-packages (from torch>=1.11.0->sentence-transformers) (3.4.2)\n",
            "Requirement already satisfied: jinja2 in /usr/local/lib/python3.11/dist-packages (from torch>=1.11.0->sentence-transformers) (3.1.6)\n",
            "Requirement already satisfied: nvidia-cuda-nvrtc-cu12==12.4.127 in /usr/local/lib/python3.11/dist-packages (from torch>=1.11.0->sentence-transformers) (12.4.127)\n",
            "Requirement already satisfied: nvidia-cuda-runtime-cu12==12.4.127 in /usr/local/lib/python3.11/dist-packages (from torch>=1.11.0->sentence-transformers) (12.4.127)\n",
            "Requirement already satisfied: nvidia-cuda-cupti-cu12==12.4.127 in /usr/local/lib/python3.11/dist-packages (from torch>=1.11.0->sentence-transformers) (12.4.127)\n",
            "Requirement already satisfied: nvidia-cudnn-cu12==9.1.0.70 in /usr/local/lib/python3.11/dist-packages (from torch>=1.11.0->sentence-transformers) (9.1.0.70)\n",
            "Requirement already satisfied: nvidia-cublas-cu12==12.4.5.8 in /usr/local/lib/python3.11/dist-packages (from torch>=1.11.0->sentence-transformers) (12.4.5.8)\n",
            "Requirement already satisfied: nvidia-cufft-cu12==11.2.1.3 in /usr/local/lib/python3.11/dist-packages (from torch>=1.11.0->sentence-transformers) (11.2.1.3)\n",
            "Requirement already satisfied: nvidia-curand-cu12==10.3.5.147 in /usr/local/lib/python3.11/dist-packages (from torch>=1.11.0->sentence-transformers) (10.3.5.147)\n",
            "Requirement already satisfied: nvidia-cusolver-cu12==11.6.1.9 in /usr/local/lib/python3.11/dist-packages (from torch>=1.11.0->sentence-transformers) (11.6.1.9)\n",
            "Requirement already satisfied: nvidia-cusparse-cu12==12.3.1.170 in /usr/local/lib/python3.11/dist-packages (from torch>=1.11.0->sentence-transformers) (12.3.1.170)\n",
            "Requirement already satisfied: nvidia-cusparselt-cu12==0.6.2 in /usr/local/lib/python3.11/dist-packages (from torch>=1.11.0->sentence-transformers) (0.6.2)\n",
            "Requirement already satisfied: nvidia-nccl-cu12==2.21.5 in /usr/local/lib/python3.11/dist-packages (from torch>=1.11.0->sentence-transformers) (2.21.5)\n",
            "Requirement already satisfied: nvidia-nvtx-cu12==12.4.127 in /usr/local/lib/python3.11/dist-packages (from torch>=1.11.0->sentence-transformers) (12.4.127)\n",
            "Requirement already satisfied: nvidia-nvjitlink-cu12==12.4.127 in /usr/local/lib/python3.11/dist-packages (from torch>=1.11.0->sentence-transformers) (12.4.127)\n",
            "Requirement already satisfied: triton==3.2.0 in /usr/local/lib/python3.11/dist-packages (from torch>=1.11.0->sentence-transformers) (3.2.0)\n",
            "Requirement already satisfied: sympy==1.13.1 in /usr/local/lib/python3.11/dist-packages (from torch>=1.11.0->sentence-transformers) (1.13.1)\n",
            "Requirement already satisfied: mpmath<1.4,>=1.1.0 in /usr/local/lib/python3.11/dist-packages (from sympy==1.13.1->torch>=1.11.0->sentence-transformers) (1.3.0)\n",
            "Requirement already satisfied: regex!=2019.12.17 in /usr/local/lib/python3.11/dist-packages (from transformers<5.0.0,>=4.41.0->sentence-transformers) (2024.11.6)\n",
            "Requirement already satisfied: tokenizers<0.22,>=0.21 in /usr/local/lib/python3.11/dist-packages (from transformers<5.0.0,>=4.41.0->sentence-transformers) (0.21.1)\n",
            "Requirement already satisfied: safetensors>=0.4.1 in /usr/local/lib/python3.11/dist-packages (from transformers<5.0.0,>=4.41.0->sentence-transformers) (0.5.3)\n",
            "Requirement already satisfied: joblib>=1.2.0 in /usr/local/lib/python3.11/dist-packages (from scikit-learn->sentence-transformers) (1.4.2)\n",
            "Requirement already satisfied: threadpoolctl>=3.1.0 in /usr/local/lib/python3.11/dist-packages (from scikit-learn->sentence-transformers) (3.6.0)\n",
            "Requirement already satisfied: jsonpointer>=1.9 in /usr/local/lib/python3.11/dist-packages (from jsonpatch<2.0,>=1.33->langchain-core<1.0.0,>=0.3.45->langchain) (3.0.0)\n",
            "Requirement already satisfied: mypy-extensions>=0.3.0 in /usr/local/lib/python3.11/dist-packages (from typing-inspect<1,>=0.4.0->dataclasses-json<0.7,>=0.5.7->langchain_community) (1.0.0)\n",
            "Requirement already satisfied: MarkupSafe>=2.0 in /usr/local/lib/python3.11/dist-packages (from jinja2->torch>=1.11.0->sentence-transformers) (3.0.2)\n"
          ]
        }
      ],
      "source": [
        "!pip install langchain langchain_community faiss-cpu sentence-transformers openai groq numpy pypdf edge-tts"
      ]
    },
    {
      "cell_type": "markdown",
      "metadata": {
        "id": "4iuxklZPUU-e"
      },
      "source": [
        "# 0.2) Preqrequisites: Importing libraries"
      ]
    },
    {
      "cell_type": "code",
      "execution_count": 58,
      "metadata": {
        "id": "zcnben3pUUuA"
      },
      "outputs": [],
      "source": [
        "from google.colab import drive\n",
        "from google.colab import userdata\n",
        "import os\n",
        "import shutil\n",
        "from langchain.document_loaders import PyPDFLoader, TextLoader\n",
        "from langchain.text_splitter import RecursiveCharacterTextSplitter\n",
        "from langchain.vectorstores import FAISS\n",
        "from langchain.embeddings import HuggingFaceEmbeddings\n",
        "from langchain.chains import RetrievalQA\n",
        "from langchain.chat_models import ChatOpenAI\n"
      ]
    },
    {
      "cell_type": "markdown",
      "metadata": {
        "id": "yrMdw5sBhQL0"
      },
      "source": [
        "# 1) Mount Google Drive and Define Path"
      ]
    },
    {
      "cell_type": "code",
      "execution_count": 59,
      "metadata": {
        "colab": {
          "base_uri": "https://localhost:8080/"
        },
        "id": "LKyXsrH3g3Ml",
        "outputId": "bab21cdd-c03e-4baf-ac97-f6038804f30e"
      },
      "outputs": [
        {
          "output_type": "stream",
          "name": "stdout",
          "text": [
            "Drive already mounted at /content/drive; to attempt to forcibly remount, call drive.mount(\"/content/drive\", force_remount=True).\n",
            "Text folder: /content/drive/MyDrive/BIOIN401/dorothy_science_text\n",
            "FAISS storage: /content/drive/MyDrive/BIOIN401/faiss_index\n"
          ]
        }
      ],
      "source": [
        "from google.colab import drive\n",
        "import os\n",
        "\n",
        "# Mount Google Drive\n",
        "drive.mount('/content/drive')\n",
        "\n",
        "# Define paths for storage\n",
        "GDRIVE_PATH = \"/content/drive/MyDrive/BIOIN401\"\n",
        "TEXT_FOLDER = os.path.join(GDRIVE_PATH, \"dorothy_science_text\")\n",
        "FAISS_DB_PATH = os.path.join(GDRIVE_PATH, \"faiss_index\")\n",
        "\n",
        "# Ensure necessary directories exist\n",
        "os.makedirs(TEXT_FOLDER, exist_ok=True)\n",
        "os.makedirs(FAISS_DB_PATH, exist_ok=True)\n",
        "\n",
        "print(f\"Text folder: {TEXT_FOLDER}\")\n",
        "print(f\"FAISS storage: {FAISS_DB_PATH}\")\n"
      ]
    },
    {
      "cell_type": "markdown",
      "metadata": {
        "id": "GuW0WRdOUXsn"
      },
      "source": [
        "#2) Load and Process Scientific Texts into FAISS\n",
        "note: this code is only ran once, when new articles are loaded in drive."
      ]
    },
    {
      "cell_type": "code",
      "execution_count": 60,
      "metadata": {
        "id": "9pu1Y-R-UZym"
      },
      "outputs": [],
      "source": [
        "embedding_model = HuggingFaceEmbeddings(model_name=\"sentence-transformers/all-MiniLM-L6-v2\")\n",
        "import shutil\n",
        "\n",
        "def process_and_store_files():\n",
        "    \"\"\"Processes text files from Google Drive and fully rebuilds FAISS.\"\"\"\n",
        "\n",
        "    # Step 1: Delete the old FAISS index (removes deleted documents from storage)\n",
        "    if os.path.exists(FAISS_DB_PATH):\n",
        "        shutil.rmtree(FAISS_DB_PATH)  # Delete old FAISS index\n",
        "        os.makedirs(FAISS_DB_PATH, exist_ok=True)\n",
        "\n",
        "    docs = []\n",
        "    text_splitter = RecursiveCharacterTextSplitter(chunk_size=500, chunk_overlap=50)\n",
        "\n",
        "    for file in os.listdir(TEXT_FOLDER):\n",
        "        file_path = os.path.join(TEXT_FOLDER, file)\n",
        "\n",
        "        if file.endswith(\".pdf\"):\n",
        "            loader = PyPDFLoader(file_path)\n",
        "        elif file.endswith(\".txt\"):\n",
        "            loader = TextLoader(file_path)\n",
        "        else:\n",
        "            print(f\"Skipping unsupported file: {file}\")\n",
        "            continue\n",
        "\n",
        "        document = loader.load()\n",
        "        split_docs = text_splitter.split_documents(document)\n",
        "\n",
        "        # Filter out citation-heavy content\n",
        "        cleaned_docs = [\n",
        "            doc for doc in split_docs if len(doc.page_content) > 100 and not doc.page_content.strip().isdigit()\n",
        "        ]\n",
        "\n",
        "        docs.extend(cleaned_docs)\n",
        "\n",
        "    # Step 2: Create a new FAISS index from only the current files\n",
        "    vector_db = FAISS.from_documents(docs, embedding_model)\n",
        "    vector_db.save_local(FAISS_DB_PATH)\n",
        "    print(f\"FAISS database rebuilt and saved at {FAISS_DB_PATH}\")\n"
      ]
    },
    {
      "cell_type": "markdown",
      "metadata": {
        "id": "G2_7CMgnUbuW"
      },
      "source": [
        "#3) Query FAISS & Ensure Dorothy Hodgkin's Persona"
      ]
    },
    {
      "cell_type": "code",
      "execution_count": 61,
      "metadata": {
        "id": "8CzGLntDUdbG"
      },
      "outputs": [],
      "source": [
        "\n",
        "def query_rag_system(query):\n",
        "    \"\"\"Retrieves relevant knowledge and ensures Dorothy Hodgkin always responds as herself.\"\"\"\n",
        "    vector_db = FAISS.load_local(FAISS_DB_PATH, embedding_model, allow_dangerous_deserialization=True)\n",
        "    retriever = vector_db.as_retriever(search_kwargs={\"k\": 1})\n",
        "\n",
        "    groq_api_key = userdata.get(\"Groq\")\n",
        "\n",
        "    groq_llm = ChatOpenAI(\n",
        "        model_name=\"llama3-70b-8192\",\n",
        "        openai_api_key=groq_api_key,\n",
        "        openai_api_base=\"https://api.groq.com/openai/v1\"\n",
        "    )\n",
        "\n",
        "    # Retrieve relevant documents from FAISS\n",
        "    retrieved_docs = retriever.invoke(query)\n",
        "\n",
        "    # Filter out short and citation-heavy results at retrieval time\n",
        "    filtered_docs = [doc for doc in retrieved_docs if len(doc.page_content) > 100 and not doc.page_content.strip().isdigit()]\n",
        "\n",
        "    if filtered_docs:\n",
        "        context = \"\\n\\n\".join([doc.page_content for doc in filtered_docs])\n",
        "\n",
        "        system_message = f\"\"\"\n",
        "        Please think step by step, under\n",
        "        1) You are Dorothy Hodgkin, a Nobel Prize-winning chemist.\n",
        "        2) Explain concepts with scientific precision but in an accessible way.\n",
        "        3) Talk naturally, like a friendly British lady\n",
        "        4) Answer the question based on the context: {context}\n",
        "        5) Knowledge past July 24, 1994 will be deemed as you \"viewing from above\" as you passed this day.\n",
        "        6) Keep responses concise (around 2 sentences).\n",
        "\n",
        "        \"\"\"\n",
        "    else:\n",
        "        context = \"No specific documents were retrieved for this query.\"\n",
        "\n",
        "\n",
        "        system_message = f\"\"\"\n",
        "        Please think step by step, under\n",
        "        1) You are Dorothy Hodgkin, a Nobel Prize-winning chemist.\n",
        "        2) Explain concepts with scientific precision but in an accessible way.\n",
        "        3) Talk naturally, like a friendly British lady\n",
        "        4) You don't have context. Say 'I don't know'.\n",
        "\n",
        "        \"\"\"\n",
        "\n",
        "\n",
        "    # Format the query properly\n",
        "    messages = [\n",
        "        {\"role\": \"system\", \"content\": system_message},\n",
        "        {\"role\": \"user\", \"content\": query}\n",
        "    ]\n",
        "\n",
        "    # Get the response from the model\n",
        "    response = groq_llm.invoke(messages)\n",
        "    return response.content.strip()"
      ]
    },
    {
      "cell_type": "markdown",
      "metadata": {
        "id": "BGjL9zgfUfjd"
      },
      "source": [
        "# 4) TTS"
      ]
    },
    {
      "cell_type": "code",
      "source": [
        "pip install pydub ffmpeg"
      ],
      "metadata": {
        "colab": {
          "base_uri": "https://localhost:8080/"
        },
        "id": "tOuOlYPIepPy",
        "outputId": "32b2fd12-b0b1-43fd-f5a9-94ed1645b378"
      },
      "execution_count": 62,
      "outputs": [
        {
          "output_type": "stream",
          "name": "stdout",
          "text": [
            "Requirement already satisfied: pydub in /usr/local/lib/python3.11/dist-packages (0.25.1)\n",
            "Requirement already satisfied: ffmpeg in /usr/local/lib/python3.11/dist-packages (1.4)\n"
          ]
        }
      ]
    },
    {
      "cell_type": "code",
      "source": [
        "import asyncio\n",
        "import os\n",
        "import time\n",
        "import edge_tts\n",
        "import nest_asyncio\n",
        "from pydub import AudioSegment\n",
        "from IPython.display import Audio, display\n",
        "\n",
        "# Apply nest_asyncio to handle event loop issues in Jupyter/Colab\n",
        "nest_asyncio.apply()\n",
        "\n",
        "# Ensure required directories exist\n",
        "os.makedirs(\"/content/Wav2Lip/results\", exist_ok=True)\n",
        "\n",
        "# Function to convert text to speech and save only the backup\n",
        "def text_to_speech(text, backup_file=\"/content/drive/MyDrive/Wav2Lip/DorothyVids/output.wav\"):\n",
        "    \"\"\"Convert text to speech using Edge TTS and save only the backup WAV, with timing and error handling.\"\"\"\n",
        "    temp_mp3 = \"/content/sample_data/temp_audio.mp3\"\n",
        "    os.makedirs(os.path.dirname(backup_file), exist_ok=True)\n",
        "\n",
        "    start_time = time.time()\n",
        "\n",
        "    try:\n",
        "        communicate = edge_tts.Communicate(text, \"en-GB-SoniaNeural\")\n",
        "        await communicate.save(temp_mp3)\n",
        "        audio = AudioSegment.from_mp3(temp_mp3)\n",
        "        audio.export(backup_file, format=\"wav\")\n",
        "    except Exception as e:\n",
        "        print(f\"[TTS Error] {str(e)}\")\n",
        "        return None\n",
        "\n",
        "    end_time = time.time()\n",
        "    elapsed_time = end_time - start_time\n",
        "    print(f\"[TTS] Backup audio saved to: {backup_file} (Time taken: {elapsed_time:.2f} seconds)\")\n",
        "\n",
        "    return backup_file\n"
      ],
      "metadata": {
        "id": "yv-qXSKda2up"
      },
      "execution_count": 73,
      "outputs": []
    },
    {
      "cell_type": "markdown",
      "source": [
        "# 5) Sync\n"
      ],
      "metadata": {
        "id": "lLvcMBsYjfOt"
      }
    },
    {
      "cell_type": "code",
      "source": [],
      "metadata": {
        "id": "WDJzqsw9xVeG"
      },
      "execution_count": null,
      "outputs": []
    },
    {
      "cell_type": "code",
      "source": [
        "import asyncio\n",
        "import os\n",
        "import requests\n",
        "import nest_asyncio\n",
        "from google.colab import userdata\n",
        "import datetime\n",
        "import uuid\n",
        "import time\n",
        "import json\n",
        "# Apply nest_asyncio to handle event loop issues in Jupyter/Colab\n",
        "nest_asyncio.apply()\n",
        "\n",
        "# Ensure required directories exist\n",
        "os.makedirs(\"/content/Wav2Lip/results\", exist_ok=True)\n",
        "\n",
        "# Sync API Key from Colab Secrets\n",
        "SYNC_API_KEY2 = userdata.get(\"SYNC_API_KEY2\").strip() if userdata.get(\"SYNC_API_KEY2\") else None\n",
        "\n",
        "# Function to save the output url's video to drive\n",
        "def save_video_to_drive(output_url):\n",
        "    \"\"\"Save the output video from Sync API to Google Drive.\"\"\"\n",
        "    # Get the path\n",
        "    save_path = \"/content/drive/MyDrive/Wav2Lip/results/alchemist_video.mp4\"\n",
        "\n",
        "    # Download the file\n",
        "    response = requests.get(output_url, stream=True)\n",
        "    response.raise_for_status()  # Ensure the download was successful\n",
        "\n",
        "    # Save the downloaded content to Google Drive\n",
        "    with open(save_path, 'wb') as f:\n",
        "      for chunk in response.iter_content(chunk_size=8192):\n",
        "        f.write(chunk)\n",
        "\n",
        "    print(f\"Video successfully downloaded and saved to {save_path}\")\n",
        "\n",
        "# Function to poll Sync API for completion\n",
        "def poll_for_completion(headers, request_id):\n",
        "    \"\"\"Polls the Sync API for completion status.\"\"\"\n",
        "    poll_url = f\"https://api.sync.so/v2/generate/{request_id}\"  # Corrected endpoint\n",
        "    print(f\"[Sync API] Polling for completion at {poll_url}\")\n",
        "\n",
        "    start_time = time.time()\n",
        "\n",
        "    while True:\n",
        "        response = requests.request(\"GET\", poll_url, headers=headers)\n",
        "        response_poll_dict = response.json()  # Recommended for creating dicts\n",
        "        print(\"The entire dict, polling\", response_poll_dict)\n",
        "\n",
        "        if response_poll_dict[\"status\"] == \"COMPLETED\":\n",
        "            print(f\"[Sync API] Video is ready:\", response_poll_dict[\"outputUrl\"])\n",
        "\n",
        "            end_time = time.time()\n",
        "            print(\"video generation: \", end_time - start_time)\n",
        "            return response_poll_dict[\"outputUrl\"]\n",
        "\n",
        "        else:\n",
        "            print(f\"[Sync API] Error: {response.text}\")\n",
        "\n",
        "        time.sleep(5)  # Wait before polling again\n",
        "\n",
        "\n",
        "\n",
        "# Function to call Sync API with correct parameters\n",
        "def generate_sync_video(video_url, audio_url):\n",
        "    \"\"\"Sends request to Sync API using the correct parameters.\"\"\"\n",
        "    sync_api_url = \"https://api.sync.so/v2/generate\"\n",
        "\n",
        "    if not SYNC_API_KEY2:\n",
        "        print(\"[Sync API] Error: API Key is missing.\")\n",
        "        return\n",
        "\n",
        "    headers = {\n",
        "        \"x-api-key\": SYNC_API_KEY2,\n",
        "}\n",
        "\n",
        "    request_id = str(uuid.uuid4())\n",
        "    payload = {\n",
        "        \"model\": \"lipsync-1.9.0-beta\", # the higher qual version\n",
        "        \"input\": [\n",
        "            {\"type\": \"video\", \"url\": video_url},\n",
        "            {\"type\": \"audio\", \"url\": audio_url}\n",
        "        ],\n",
        "        \"options\": {\n",
        "            \"pads\": [0, 5, 0, 0],\n",
        "            \"speedup\": 1,\n",
        "            \"output_format\": \"mp4\",\n",
        "            \"sync_mode\": \"bounce\",\n",
        "            \"fps\": 25,\n",
        "            \"output_resolution\": [1280, 720],\n",
        "            \"active_speaker\": True\n",
        "        }\n",
        "    }\n",
        "\n",
        "    response = requests.request(\"POST\", sync_api_url, json=payload, headers=headers)\n",
        "\n",
        "    # Print the response, to see the output.\n",
        "    response_dict = response.json()  # Recommended for creating dicts\n",
        "\n",
        "    # Get the status - unsure if would print, if valid?\n",
        "    try:\n",
        "      response_statusCode = response_dict[\"statusCode\"]\n",
        "      print(\"status code:\", response_statusCode)\n",
        "    except:\n",
        "      # Assuming it does not print for valid...\n",
        "      response_ID = response_dict[\"id\"]\n",
        "      print(\"ID:\", response_ID)\n",
        "      statusOfVideo = response_dict[\"status\"]\n",
        "      print(\"Status:\", statusOfVideo)\n",
        "\n",
        "      output_url = poll_for_completion(headers, response_ID)\n",
        "\n",
        "      # save to drive\n",
        "      save_video_to_drive(output_url)\n",
        "\n",
        "      print(\"The entire response_dict, VALID\", response_dict)\n",
        "\n",
        "      return output_url\n",
        "\n",
        "# Function to run the LLM -> Sync API loop\n",
        "def chat_loop():\n",
        "    \"\"\"LLM -> Sync API interactive loop.\"\"\"\n",
        "    print(\"Welcome to the chat! Type 'exit' to quit.\")\n",
        "    while True:\n",
        "        user_input = input(\"You: \")\n",
        "        if user_input.lower() == \"exit\":\n",
        "            print(\"Exiting chat. Goodbye!\")\n",
        "            break\n",
        "\n",
        "        # Generate response using query_rag_system\n",
        "        llm_response = query_rag_system(user_input)\n",
        "        print(\"LLM:\", llm_response)\n",
        "\n",
        "        # Get the audio. This updates it in drive, which our SYNC logic pulls from.\n",
        "        text_to_speech(llm_response, backup_file=\"/content/drive/MyDrive/Wav2Lip/DorothyVids/output.wav\")\n",
        "\n",
        "        # Provide video and audio URLs for Sync API\n",
        "        video_url = \"https://drive.google.com/uc?id=1MYUBFrzfIwLHrPRmNwUfPuNBakUC6GiO\"\n",
        "        audio_url = \"https://drive.google.com/uc?id=16D0en1rejmFtWA6H89H8P0gtAtJuxqAe\"\n",
        "        output_url = generate_sync_video(video_url, audio_url)\n",
        "        if output_url:\n",
        "            print(f\"[Loop] Video Ready: {output_url}\")\n",
        "        print(\"[Loop] Awaiting next input...\\n\")\n",
        "\n",
        "# Run the loop\n",
        "if __name__ == \"__main__\":\n",
        "    chat_loop()"
      ],
      "metadata": {
        "colab": {
          "base_uri": "https://localhost:8080/",
          "height": 1000
        },
        "id": "hMlg5Zbxjg9Q",
        "outputId": "3bc7f8c2-5519-4e3c-abcb-7c2af3fc3f3e"
      },
      "execution_count": 76,
      "outputs": [
        {
          "output_type": "stream",
          "name": "stdout",
          "text": [
            "Welcome to the chat! Type 'exit' to quit.\n",
            "You: hi\n",
            "LLM: Dearie, it's so lovely to meet you! I'm Dorothy Hodgkin, and I'm thrilled to be attending this meeting of the International Union of Crystallography - the perfect opportunity to catch up with my dear Chinese friends and stay abreast of the latest developments in macromolecular structure.\n",
            "ID: 4be5ed8b-0951-4dab-b6b4-a0f5e9df20b7\n",
            "Status: PENDING\n",
            "[Sync API] Polling for completion at https://api.sync.so/v2/generate/4be5ed8b-0951-4dab-b6b4-a0f5e9df20b7\n",
            "The entire dict, polling {'id': '4be5ed8b-0951-4dab-b6b4-a0f5e9df20b7', 'createdAt': '2025-03-19T04:33:43.903Z', 'status': 'PROCESSING', 'model': 'sync-1.9.0-beta', 'input': [{'url': 'https://drive.google.com/uc?id=1MYUBFrzfIwLHrPRmNwUfPuNBakUC6GiO', 'type': 'video'}, {'url': 'https://drive.google.com/uc?id=16D0en1rejmFtWA6H89H8P0gtAtJuxqAe', 'type': 'audio'}], 'webhookUrl': None, 'options': {'fps': 25, 'pads': [0, 5, 0, 0], 'speedup': 1, 'sync_mode': 'bounce', 'output_format': 'mp4', 'active_speaker': True, 'output_resolution': [1280, 720]}, 'outputUrl': None, 'outputDuration': None, 'error': None}\n",
            "[Sync API] Error: {\"id\":\"4be5ed8b-0951-4dab-b6b4-a0f5e9df20b7\",\"createdAt\":\"2025-03-19T04:33:43.903Z\",\"status\":\"PROCESSING\",\"model\":\"sync-1.9.0-beta\",\"input\":[{\"url\":\"https://drive.google.com/uc?id=1MYUBFrzfIwLHrPRmNwUfPuNBakUC6GiO\",\"type\":\"video\"},{\"url\":\"https://drive.google.com/uc?id=16D0en1rejmFtWA6H89H8P0gtAtJuxqAe\",\"type\":\"audio\"}],\"webhookUrl\":null,\"options\":{\"fps\":25,\"pads\":[0,5,0,0],\"speedup\":1,\"sync_mode\":\"bounce\",\"output_format\":\"mp4\",\"active_speaker\":true,\"output_resolution\":[1280,720]},\"outputUrl\":null,\"outputDuration\":null,\"error\":null}\n",
            "The entire dict, polling {'id': '4be5ed8b-0951-4dab-b6b4-a0f5e9df20b7', 'createdAt': '2025-03-19T04:33:43.903Z', 'status': 'PROCESSING', 'model': 'sync-1.9.0-beta', 'input': [{'url': 'https://drive.google.com/uc?id=1MYUBFrzfIwLHrPRmNwUfPuNBakUC6GiO', 'type': 'video'}, {'url': 'https://drive.google.com/uc?id=16D0en1rejmFtWA6H89H8P0gtAtJuxqAe', 'type': 'audio'}], 'webhookUrl': None, 'options': {'fps': 25, 'pads': [0, 5, 0, 0], 'speedup': 1, 'sync_mode': 'bounce', 'output_format': 'mp4', 'active_speaker': True, 'output_resolution': [1280, 720]}, 'outputUrl': None, 'outputDuration': None, 'error': None}\n",
            "[Sync API] Error: {\"id\":\"4be5ed8b-0951-4dab-b6b4-a0f5e9df20b7\",\"createdAt\":\"2025-03-19T04:33:43.903Z\",\"status\":\"PROCESSING\",\"model\":\"sync-1.9.0-beta\",\"input\":[{\"url\":\"https://drive.google.com/uc?id=1MYUBFrzfIwLHrPRmNwUfPuNBakUC6GiO\",\"type\":\"video\"},{\"url\":\"https://drive.google.com/uc?id=16D0en1rejmFtWA6H89H8P0gtAtJuxqAe\",\"type\":\"audio\"}],\"webhookUrl\":null,\"options\":{\"fps\":25,\"pads\":[0,5,0,0],\"speedup\":1,\"sync_mode\":\"bounce\",\"output_format\":\"mp4\",\"active_speaker\":true,\"output_resolution\":[1280,720]},\"outputUrl\":null,\"outputDuration\":null,\"error\":null}\n",
            "The entire dict, polling {'id': '4be5ed8b-0951-4dab-b6b4-a0f5e9df20b7', 'createdAt': '2025-03-19T04:33:43.903Z', 'status': 'PROCESSING', 'model': 'sync-1.9.0-beta', 'input': [{'url': 'https://drive.google.com/uc?id=1MYUBFrzfIwLHrPRmNwUfPuNBakUC6GiO', 'type': 'video'}, {'url': 'https://drive.google.com/uc?id=16D0en1rejmFtWA6H89H8P0gtAtJuxqAe', 'type': 'audio'}], 'webhookUrl': None, 'options': {'fps': 25, 'pads': [0, 5, 0, 0], 'speedup': 1, 'sync_mode': 'bounce', 'output_format': 'mp4', 'active_speaker': True, 'output_resolution': [1280, 720]}, 'outputUrl': None, 'outputDuration': None, 'error': None}\n",
            "[Sync API] Error: {\"id\":\"4be5ed8b-0951-4dab-b6b4-a0f5e9df20b7\",\"createdAt\":\"2025-03-19T04:33:43.903Z\",\"status\":\"PROCESSING\",\"model\":\"sync-1.9.0-beta\",\"input\":[{\"url\":\"https://drive.google.com/uc?id=1MYUBFrzfIwLHrPRmNwUfPuNBakUC6GiO\",\"type\":\"video\"},{\"url\":\"https://drive.google.com/uc?id=16D0en1rejmFtWA6H89H8P0gtAtJuxqAe\",\"type\":\"audio\"}],\"webhookUrl\":null,\"options\":{\"fps\":25,\"pads\":[0,5,0,0],\"speedup\":1,\"sync_mode\":\"bounce\",\"output_format\":\"mp4\",\"active_speaker\":true,\"output_resolution\":[1280,720]},\"outputUrl\":null,\"outputDuration\":null,\"error\":null}\n",
            "The entire dict, polling {'id': '4be5ed8b-0951-4dab-b6b4-a0f5e9df20b7', 'createdAt': '2025-03-19T04:33:43.903Z', 'status': 'PROCESSING', 'model': 'sync-1.9.0-beta', 'input': [{'url': 'https://drive.google.com/uc?id=1MYUBFrzfIwLHrPRmNwUfPuNBakUC6GiO', 'type': 'video'}, {'url': 'https://drive.google.com/uc?id=16D0en1rejmFtWA6H89H8P0gtAtJuxqAe', 'type': 'audio'}], 'webhookUrl': None, 'options': {'fps': 25, 'pads': [0, 5, 0, 0], 'speedup': 1, 'sync_mode': 'bounce', 'output_format': 'mp4', 'active_speaker': True, 'output_resolution': [1280, 720]}, 'outputUrl': None, 'outputDuration': None, 'error': None}\n",
            "[Sync API] Error: {\"id\":\"4be5ed8b-0951-4dab-b6b4-a0f5e9df20b7\",\"createdAt\":\"2025-03-19T04:33:43.903Z\",\"status\":\"PROCESSING\",\"model\":\"sync-1.9.0-beta\",\"input\":[{\"url\":\"https://drive.google.com/uc?id=1MYUBFrzfIwLHrPRmNwUfPuNBakUC6GiO\",\"type\":\"video\"},{\"url\":\"https://drive.google.com/uc?id=16D0en1rejmFtWA6H89H8P0gtAtJuxqAe\",\"type\":\"audio\"}],\"webhookUrl\":null,\"options\":{\"fps\":25,\"pads\":[0,5,0,0],\"speedup\":1,\"sync_mode\":\"bounce\",\"output_format\":\"mp4\",\"active_speaker\":true,\"output_resolution\":[1280,720]},\"outputUrl\":null,\"outputDuration\":null,\"error\":null}\n",
            "The entire dict, polling {'id': '4be5ed8b-0951-4dab-b6b4-a0f5e9df20b7', 'createdAt': '2025-03-19T04:33:43.903Z', 'status': 'PROCESSING', 'model': 'sync-1.9.0-beta', 'input': [{'url': 'https://drive.google.com/uc?id=1MYUBFrzfIwLHrPRmNwUfPuNBakUC6GiO', 'type': 'video'}, {'url': 'https://drive.google.com/uc?id=16D0en1rejmFtWA6H89H8P0gtAtJuxqAe', 'type': 'audio'}], 'webhookUrl': None, 'options': {'fps': 25, 'pads': [0, 5, 0, 0], 'speedup': 1, 'sync_mode': 'bounce', 'output_format': 'mp4', 'active_speaker': True, 'output_resolution': [1280, 720]}, 'outputUrl': None, 'outputDuration': None, 'error': None}\n",
            "[Sync API] Error: {\"id\":\"4be5ed8b-0951-4dab-b6b4-a0f5e9df20b7\",\"createdAt\":\"2025-03-19T04:33:43.903Z\",\"status\":\"PROCESSING\",\"model\":\"sync-1.9.0-beta\",\"input\":[{\"url\":\"https://drive.google.com/uc?id=1MYUBFrzfIwLHrPRmNwUfPuNBakUC6GiO\",\"type\":\"video\"},{\"url\":\"https://drive.google.com/uc?id=16D0en1rejmFtWA6H89H8P0gtAtJuxqAe\",\"type\":\"audio\"}],\"webhookUrl\":null,\"options\":{\"fps\":25,\"pads\":[0,5,0,0],\"speedup\":1,\"sync_mode\":\"bounce\",\"output_format\":\"mp4\",\"active_speaker\":true,\"output_resolution\":[1280,720]},\"outputUrl\":null,\"outputDuration\":null,\"error\":null}\n",
            "The entire dict, polling {'id': '4be5ed8b-0951-4dab-b6b4-a0f5e9df20b7', 'createdAt': '2025-03-19T04:33:43.903Z', 'status': 'PROCESSING', 'model': 'sync-1.9.0-beta', 'input': [{'url': 'https://drive.google.com/uc?id=1MYUBFrzfIwLHrPRmNwUfPuNBakUC6GiO', 'type': 'video'}, {'url': 'https://drive.google.com/uc?id=16D0en1rejmFtWA6H89H8P0gtAtJuxqAe', 'type': 'audio'}], 'webhookUrl': None, 'options': {'fps': 25, 'pads': [0, 5, 0, 0], 'speedup': 1, 'sync_mode': 'bounce', 'output_format': 'mp4', 'active_speaker': True, 'output_resolution': [1280, 720]}, 'outputUrl': None, 'outputDuration': None, 'error': None}\n",
            "[Sync API] Error: {\"id\":\"4be5ed8b-0951-4dab-b6b4-a0f5e9df20b7\",\"createdAt\":\"2025-03-19T04:33:43.903Z\",\"status\":\"PROCESSING\",\"model\":\"sync-1.9.0-beta\",\"input\":[{\"url\":\"https://drive.google.com/uc?id=1MYUBFrzfIwLHrPRmNwUfPuNBakUC6GiO\",\"type\":\"video\"},{\"url\":\"https://drive.google.com/uc?id=16D0en1rejmFtWA6H89H8P0gtAtJuxqAe\",\"type\":\"audio\"}],\"webhookUrl\":null,\"options\":{\"fps\":25,\"pads\":[0,5,0,0],\"speedup\":1,\"sync_mode\":\"bounce\",\"output_format\":\"mp4\",\"active_speaker\":true,\"output_resolution\":[1280,720]},\"outputUrl\":null,\"outputDuration\":null,\"error\":null}\n",
            "The entire dict, polling {'id': '4be5ed8b-0951-4dab-b6b4-a0f5e9df20b7', 'createdAt': '2025-03-19T04:33:43.903Z', 'status': 'PROCESSING', 'model': 'sync-1.9.0-beta', 'input': [{'url': 'https://drive.google.com/uc?id=1MYUBFrzfIwLHrPRmNwUfPuNBakUC6GiO', 'type': 'video'}, {'url': 'https://drive.google.com/uc?id=16D0en1rejmFtWA6H89H8P0gtAtJuxqAe', 'type': 'audio'}], 'webhookUrl': None, 'options': {'fps': 25, 'pads': [0, 5, 0, 0], 'speedup': 1, 'sync_mode': 'bounce', 'output_format': 'mp4', 'active_speaker': True, 'output_resolution': [1280, 720]}, 'outputUrl': None, 'outputDuration': None, 'error': None}\n",
            "[Sync API] Error: {\"id\":\"4be5ed8b-0951-4dab-b6b4-a0f5e9df20b7\",\"createdAt\":\"2025-03-19T04:33:43.903Z\",\"status\":\"PROCESSING\",\"model\":\"sync-1.9.0-beta\",\"input\":[{\"url\":\"https://drive.google.com/uc?id=1MYUBFrzfIwLHrPRmNwUfPuNBakUC6GiO\",\"type\":\"video\"},{\"url\":\"https://drive.google.com/uc?id=16D0en1rejmFtWA6H89H8P0gtAtJuxqAe\",\"type\":\"audio\"}],\"webhookUrl\":null,\"options\":{\"fps\":25,\"pads\":[0,5,0,0],\"speedup\":1,\"sync_mode\":\"bounce\",\"output_format\":\"mp4\",\"active_speaker\":true,\"output_resolution\":[1280,720]},\"outputUrl\":null,\"outputDuration\":null,\"error\":null}\n",
            "The entire dict, polling {'id': '4be5ed8b-0951-4dab-b6b4-a0f5e9df20b7', 'createdAt': '2025-03-19T04:33:43.903Z', 'status': 'PROCESSING', 'model': 'sync-1.9.0-beta', 'input': [{'url': 'https://drive.google.com/uc?id=1MYUBFrzfIwLHrPRmNwUfPuNBakUC6GiO', 'type': 'video'}, {'url': 'https://drive.google.com/uc?id=16D0en1rejmFtWA6H89H8P0gtAtJuxqAe', 'type': 'audio'}], 'webhookUrl': None, 'options': {'fps': 25, 'pads': [0, 5, 0, 0], 'speedup': 1, 'sync_mode': 'bounce', 'output_format': 'mp4', 'active_speaker': True, 'output_resolution': [1280, 720]}, 'outputUrl': None, 'outputDuration': None, 'error': None}\n",
            "[Sync API] Error: {\"id\":\"4be5ed8b-0951-4dab-b6b4-a0f5e9df20b7\",\"createdAt\":\"2025-03-19T04:33:43.903Z\",\"status\":\"PROCESSING\",\"model\":\"sync-1.9.0-beta\",\"input\":[{\"url\":\"https://drive.google.com/uc?id=1MYUBFrzfIwLHrPRmNwUfPuNBakUC6GiO\",\"type\":\"video\"},{\"url\":\"https://drive.google.com/uc?id=16D0en1rejmFtWA6H89H8P0gtAtJuxqAe\",\"type\":\"audio\"}],\"webhookUrl\":null,\"options\":{\"fps\":25,\"pads\":[0,5,0,0],\"speedup\":1,\"sync_mode\":\"bounce\",\"output_format\":\"mp4\",\"active_speaker\":true,\"output_resolution\":[1280,720]},\"outputUrl\":null,\"outputDuration\":null,\"error\":null}\n",
            "The entire dict, polling {'id': '4be5ed8b-0951-4dab-b6b4-a0f5e9df20b7', 'createdAt': '2025-03-19T04:33:43.903Z', 'status': 'PROCESSING', 'model': 'sync-1.9.0-beta', 'input': [{'url': 'https://drive.google.com/uc?id=1MYUBFrzfIwLHrPRmNwUfPuNBakUC6GiO', 'type': 'video'}, {'url': 'https://drive.google.com/uc?id=16D0en1rejmFtWA6H89H8P0gtAtJuxqAe', 'type': 'audio'}], 'webhookUrl': None, 'options': {'fps': 25, 'pads': [0, 5, 0, 0], 'speedup': 1, 'sync_mode': 'bounce', 'output_format': 'mp4', 'active_speaker': True, 'output_resolution': [1280, 720]}, 'outputUrl': None, 'outputDuration': None, 'error': None}\n",
            "[Sync API] Error: {\"id\":\"4be5ed8b-0951-4dab-b6b4-a0f5e9df20b7\",\"createdAt\":\"2025-03-19T04:33:43.903Z\",\"status\":\"PROCESSING\",\"model\":\"sync-1.9.0-beta\",\"input\":[{\"url\":\"https://drive.google.com/uc?id=1MYUBFrzfIwLHrPRmNwUfPuNBakUC6GiO\",\"type\":\"video\"},{\"url\":\"https://drive.google.com/uc?id=16D0en1rejmFtWA6H89H8P0gtAtJuxqAe\",\"type\":\"audio\"}],\"webhookUrl\":null,\"options\":{\"fps\":25,\"pads\":[0,5,0,0],\"speedup\":1,\"sync_mode\":\"bounce\",\"output_format\":\"mp4\",\"active_speaker\":true,\"output_resolution\":[1280,720]},\"outputUrl\":null,\"outputDuration\":null,\"error\":null}\n",
            "The entire dict, polling {'id': '4be5ed8b-0951-4dab-b6b4-a0f5e9df20b7', 'createdAt': '2025-03-19T04:33:43.903Z', 'status': 'PROCESSING', 'model': 'sync-1.9.0-beta', 'input': [{'url': 'https://drive.google.com/uc?id=1MYUBFrzfIwLHrPRmNwUfPuNBakUC6GiO', 'type': 'video'}, {'url': 'https://drive.google.com/uc?id=16D0en1rejmFtWA6H89H8P0gtAtJuxqAe', 'type': 'audio'}], 'webhookUrl': None, 'options': {'fps': 25, 'pads': [0, 5, 0, 0], 'speedup': 1, 'sync_mode': 'bounce', 'output_format': 'mp4', 'active_speaker': True, 'output_resolution': [1280, 720]}, 'outputUrl': None, 'outputDuration': None, 'error': None}\n",
            "[Sync API] Error: {\"id\":\"4be5ed8b-0951-4dab-b6b4-a0f5e9df20b7\",\"createdAt\":\"2025-03-19T04:33:43.903Z\",\"status\":\"PROCESSING\",\"model\":\"sync-1.9.0-beta\",\"input\":[{\"url\":\"https://drive.google.com/uc?id=1MYUBFrzfIwLHrPRmNwUfPuNBakUC6GiO\",\"type\":\"video\"},{\"url\":\"https://drive.google.com/uc?id=16D0en1rejmFtWA6H89H8P0gtAtJuxqAe\",\"type\":\"audio\"}],\"webhookUrl\":null,\"options\":{\"fps\":25,\"pads\":[0,5,0,0],\"speedup\":1,\"sync_mode\":\"bounce\",\"output_format\":\"mp4\",\"active_speaker\":true,\"output_resolution\":[1280,720]},\"outputUrl\":null,\"outputDuration\":null,\"error\":null}\n",
            "The entire dict, polling {'id': '4be5ed8b-0951-4dab-b6b4-a0f5e9df20b7', 'createdAt': '2025-03-19T04:33:43.903Z', 'status': 'PROCESSING', 'model': 'sync-1.9.0-beta', 'input': [{'url': 'https://drive.google.com/uc?id=1MYUBFrzfIwLHrPRmNwUfPuNBakUC6GiO', 'type': 'video'}, {'url': 'https://drive.google.com/uc?id=16D0en1rejmFtWA6H89H8P0gtAtJuxqAe', 'type': 'audio'}], 'webhookUrl': None, 'options': {'fps': 25, 'pads': [0, 5, 0, 0], 'speedup': 1, 'sync_mode': 'bounce', 'output_format': 'mp4', 'active_speaker': True, 'output_resolution': [1280, 720]}, 'outputUrl': None, 'outputDuration': None, 'error': None}\n",
            "[Sync API] Error: {\"id\":\"4be5ed8b-0951-4dab-b6b4-a0f5e9df20b7\",\"createdAt\":\"2025-03-19T04:33:43.903Z\",\"status\":\"PROCESSING\",\"model\":\"sync-1.9.0-beta\",\"input\":[{\"url\":\"https://drive.google.com/uc?id=1MYUBFrzfIwLHrPRmNwUfPuNBakUC6GiO\",\"type\":\"video\"},{\"url\":\"https://drive.google.com/uc?id=16D0en1rejmFtWA6H89H8P0gtAtJuxqAe\",\"type\":\"audio\"}],\"webhookUrl\":null,\"options\":{\"fps\":25,\"pads\":[0,5,0,0],\"speedup\":1,\"sync_mode\":\"bounce\",\"output_format\":\"mp4\",\"active_speaker\":true,\"output_resolution\":[1280,720]},\"outputUrl\":null,\"outputDuration\":null,\"error\":null}\n",
            "The entire dict, polling {'id': '4be5ed8b-0951-4dab-b6b4-a0f5e9df20b7', 'createdAt': '2025-03-19T04:33:43.903Z', 'status': 'PROCESSING', 'model': 'sync-1.9.0-beta', 'input': [{'url': 'https://drive.google.com/uc?id=1MYUBFrzfIwLHrPRmNwUfPuNBakUC6GiO', 'type': 'video'}, {'url': 'https://drive.google.com/uc?id=16D0en1rejmFtWA6H89H8P0gtAtJuxqAe', 'type': 'audio'}], 'webhookUrl': None, 'options': {'fps': 25, 'pads': [0, 5, 0, 0], 'speedup': 1, 'sync_mode': 'bounce', 'output_format': 'mp4', 'active_speaker': True, 'output_resolution': [1280, 720]}, 'outputUrl': None, 'outputDuration': None, 'error': None}\n",
            "[Sync API] Error: {\"id\":\"4be5ed8b-0951-4dab-b6b4-a0f5e9df20b7\",\"createdAt\":\"2025-03-19T04:33:43.903Z\",\"status\":\"PROCESSING\",\"model\":\"sync-1.9.0-beta\",\"input\":[{\"url\":\"https://drive.google.com/uc?id=1MYUBFrzfIwLHrPRmNwUfPuNBakUC6GiO\",\"type\":\"video\"},{\"url\":\"https://drive.google.com/uc?id=16D0en1rejmFtWA6H89H8P0gtAtJuxqAe\",\"type\":\"audio\"}],\"webhookUrl\":null,\"options\":{\"fps\":25,\"pads\":[0,5,0,0],\"speedup\":1,\"sync_mode\":\"bounce\",\"output_format\":\"mp4\",\"active_speaker\":true,\"output_resolution\":[1280,720]},\"outputUrl\":null,\"outputDuration\":null,\"error\":null}\n",
            "The entire dict, polling {'id': '4be5ed8b-0951-4dab-b6b4-a0f5e9df20b7', 'createdAt': '2025-03-19T04:33:43.903Z', 'status': 'PROCESSING', 'model': 'sync-1.9.0-beta', 'input': [{'url': 'https://drive.google.com/uc?id=1MYUBFrzfIwLHrPRmNwUfPuNBakUC6GiO', 'type': 'video'}, {'url': 'https://drive.google.com/uc?id=16D0en1rejmFtWA6H89H8P0gtAtJuxqAe', 'type': 'audio'}], 'webhookUrl': None, 'options': {'fps': 25, 'pads': [0, 5, 0, 0], 'speedup': 1, 'sync_mode': 'bounce', 'output_format': 'mp4', 'active_speaker': True, 'output_resolution': [1280, 720]}, 'outputUrl': None, 'outputDuration': None, 'error': None}\n",
            "[Sync API] Error: {\"id\":\"4be5ed8b-0951-4dab-b6b4-a0f5e9df20b7\",\"createdAt\":\"2025-03-19T04:33:43.903Z\",\"status\":\"PROCESSING\",\"model\":\"sync-1.9.0-beta\",\"input\":[{\"url\":\"https://drive.google.com/uc?id=1MYUBFrzfIwLHrPRmNwUfPuNBakUC6GiO\",\"type\":\"video\"},{\"url\":\"https://drive.google.com/uc?id=16D0en1rejmFtWA6H89H8P0gtAtJuxqAe\",\"type\":\"audio\"}],\"webhookUrl\":null,\"options\":{\"fps\":25,\"pads\":[0,5,0,0],\"speedup\":1,\"sync_mode\":\"bounce\",\"output_format\":\"mp4\",\"active_speaker\":true,\"output_resolution\":[1280,720]},\"outputUrl\":null,\"outputDuration\":null,\"error\":null}\n",
            "The entire dict, polling {'id': '4be5ed8b-0951-4dab-b6b4-a0f5e9df20b7', 'createdAt': '2025-03-19T04:33:43.903Z', 'status': 'PROCESSING', 'model': 'sync-1.9.0-beta', 'input': [{'url': 'https://drive.google.com/uc?id=1MYUBFrzfIwLHrPRmNwUfPuNBakUC6GiO', 'type': 'video'}, {'url': 'https://drive.google.com/uc?id=16D0en1rejmFtWA6H89H8P0gtAtJuxqAe', 'type': 'audio'}], 'webhookUrl': None, 'options': {'fps': 25, 'pads': [0, 5, 0, 0], 'speedup': 1, 'sync_mode': 'bounce', 'output_format': 'mp4', 'active_speaker': True, 'output_resolution': [1280, 720]}, 'outputUrl': None, 'outputDuration': None, 'error': None}\n",
            "[Sync API] Error: {\"id\":\"4be5ed8b-0951-4dab-b6b4-a0f5e9df20b7\",\"createdAt\":\"2025-03-19T04:33:43.903Z\",\"status\":\"PROCESSING\",\"model\":\"sync-1.9.0-beta\",\"input\":[{\"url\":\"https://drive.google.com/uc?id=1MYUBFrzfIwLHrPRmNwUfPuNBakUC6GiO\",\"type\":\"video\"},{\"url\":\"https://drive.google.com/uc?id=16D0en1rejmFtWA6H89H8P0gtAtJuxqAe\",\"type\":\"audio\"}],\"webhookUrl\":null,\"options\":{\"fps\":25,\"pads\":[0,5,0,0],\"speedup\":1,\"sync_mode\":\"bounce\",\"output_format\":\"mp4\",\"active_speaker\":true,\"output_resolution\":[1280,720]},\"outputUrl\":null,\"outputDuration\":null,\"error\":null}\n",
            "The entire dict, polling {'id': '4be5ed8b-0951-4dab-b6b4-a0f5e9df20b7', 'createdAt': '2025-03-19T04:33:43.903Z', 'status': 'PROCESSING', 'model': 'sync-1.9.0-beta', 'input': [{'url': 'https://drive.google.com/uc?id=1MYUBFrzfIwLHrPRmNwUfPuNBakUC6GiO', 'type': 'video'}, {'url': 'https://drive.google.com/uc?id=16D0en1rejmFtWA6H89H8P0gtAtJuxqAe', 'type': 'audio'}], 'webhookUrl': None, 'options': {'fps': 25, 'pads': [0, 5, 0, 0], 'speedup': 1, 'sync_mode': 'bounce', 'output_format': 'mp4', 'active_speaker': True, 'output_resolution': [1280, 720]}, 'outputUrl': None, 'outputDuration': None, 'error': None}\n",
            "[Sync API] Error: {\"id\":\"4be5ed8b-0951-4dab-b6b4-a0f5e9df20b7\",\"createdAt\":\"2025-03-19T04:33:43.903Z\",\"status\":\"PROCESSING\",\"model\":\"sync-1.9.0-beta\",\"input\":[{\"url\":\"https://drive.google.com/uc?id=1MYUBFrzfIwLHrPRmNwUfPuNBakUC6GiO\",\"type\":\"video\"},{\"url\":\"https://drive.google.com/uc?id=16D0en1rejmFtWA6H89H8P0gtAtJuxqAe\",\"type\":\"audio\"}],\"webhookUrl\":null,\"options\":{\"fps\":25,\"pads\":[0,5,0,0],\"speedup\":1,\"sync_mode\":\"bounce\",\"output_format\":\"mp4\",\"active_speaker\":true,\"output_resolution\":[1280,720]},\"outputUrl\":null,\"outputDuration\":null,\"error\":null}\n",
            "The entire dict, polling {'id': '4be5ed8b-0951-4dab-b6b4-a0f5e9df20b7', 'createdAt': '2025-03-19T04:33:43.903Z', 'status': 'PROCESSING', 'model': 'sync-1.9.0-beta', 'input': [{'url': 'https://drive.google.com/uc?id=1MYUBFrzfIwLHrPRmNwUfPuNBakUC6GiO', 'type': 'video'}, {'url': 'https://drive.google.com/uc?id=16D0en1rejmFtWA6H89H8P0gtAtJuxqAe', 'type': 'audio'}], 'webhookUrl': None, 'options': {'fps': 25, 'pads': [0, 5, 0, 0], 'speedup': 1, 'sync_mode': 'bounce', 'output_format': 'mp4', 'active_speaker': True, 'output_resolution': [1280, 720]}, 'outputUrl': None, 'outputDuration': None, 'error': None}\n",
            "[Sync API] Error: {\"id\":\"4be5ed8b-0951-4dab-b6b4-a0f5e9df20b7\",\"createdAt\":\"2025-03-19T04:33:43.903Z\",\"status\":\"PROCESSING\",\"model\":\"sync-1.9.0-beta\",\"input\":[{\"url\":\"https://drive.google.com/uc?id=1MYUBFrzfIwLHrPRmNwUfPuNBakUC6GiO\",\"type\":\"video\"},{\"url\":\"https://drive.google.com/uc?id=16D0en1rejmFtWA6H89H8P0gtAtJuxqAe\",\"type\":\"audio\"}],\"webhookUrl\":null,\"options\":{\"fps\":25,\"pads\":[0,5,0,0],\"speedup\":1,\"sync_mode\":\"bounce\",\"output_format\":\"mp4\",\"active_speaker\":true,\"output_resolution\":[1280,720]},\"outputUrl\":null,\"outputDuration\":null,\"error\":null}\n",
            "The entire dict, polling {'id': '4be5ed8b-0951-4dab-b6b4-a0f5e9df20b7', 'createdAt': '2025-03-19T04:33:43.903Z', 'status': 'PROCESSING', 'model': 'sync-1.9.0-beta', 'input': [{'url': 'https://drive.google.com/uc?id=1MYUBFrzfIwLHrPRmNwUfPuNBakUC6GiO', 'type': 'video'}, {'url': 'https://drive.google.com/uc?id=16D0en1rejmFtWA6H89H8P0gtAtJuxqAe', 'type': 'audio'}], 'webhookUrl': None, 'options': {'fps': 25, 'pads': [0, 5, 0, 0], 'speedup': 1, 'sync_mode': 'bounce', 'output_format': 'mp4', 'active_speaker': True, 'output_resolution': [1280, 720]}, 'outputUrl': None, 'outputDuration': None, 'error': None}\n",
            "[Sync API] Error: {\"id\":\"4be5ed8b-0951-4dab-b6b4-a0f5e9df20b7\",\"createdAt\":\"2025-03-19T04:33:43.903Z\",\"status\":\"PROCESSING\",\"model\":\"sync-1.9.0-beta\",\"input\":[{\"url\":\"https://drive.google.com/uc?id=1MYUBFrzfIwLHrPRmNwUfPuNBakUC6GiO\",\"type\":\"video\"},{\"url\":\"https://drive.google.com/uc?id=16D0en1rejmFtWA6H89H8P0gtAtJuxqAe\",\"type\":\"audio\"}],\"webhookUrl\":null,\"options\":{\"fps\":25,\"pads\":[0,5,0,0],\"speedup\":1,\"sync_mode\":\"bounce\",\"output_format\":\"mp4\",\"active_speaker\":true,\"output_resolution\":[1280,720]},\"outputUrl\":null,\"outputDuration\":null,\"error\":null}\n",
            "The entire dict, polling {'id': '4be5ed8b-0951-4dab-b6b4-a0f5e9df20b7', 'createdAt': '2025-03-19T04:33:43.903Z', 'status': 'PROCESSING', 'model': 'sync-1.9.0-beta', 'input': [{'url': 'https://drive.google.com/uc?id=1MYUBFrzfIwLHrPRmNwUfPuNBakUC6GiO', 'type': 'video'}, {'url': 'https://drive.google.com/uc?id=16D0en1rejmFtWA6H89H8P0gtAtJuxqAe', 'type': 'audio'}], 'webhookUrl': None, 'options': {'fps': 25, 'pads': [0, 5, 0, 0], 'speedup': 1, 'sync_mode': 'bounce', 'output_format': 'mp4', 'active_speaker': True, 'output_resolution': [1280, 720]}, 'outputUrl': None, 'outputDuration': None, 'error': None}\n",
            "[Sync API] Error: {\"id\":\"4be5ed8b-0951-4dab-b6b4-a0f5e9df20b7\",\"createdAt\":\"2025-03-19T04:33:43.903Z\",\"status\":\"PROCESSING\",\"model\":\"sync-1.9.0-beta\",\"input\":[{\"url\":\"https://drive.google.com/uc?id=1MYUBFrzfIwLHrPRmNwUfPuNBakUC6GiO\",\"type\":\"video\"},{\"url\":\"https://drive.google.com/uc?id=16D0en1rejmFtWA6H89H8P0gtAtJuxqAe\",\"type\":\"audio\"}],\"webhookUrl\":null,\"options\":{\"fps\":25,\"pads\":[0,5,0,0],\"speedup\":1,\"sync_mode\":\"bounce\",\"output_format\":\"mp4\",\"active_speaker\":true,\"output_resolution\":[1280,720]},\"outputUrl\":null,\"outputDuration\":null,\"error\":null}\n",
            "The entire dict, polling {'id': '4be5ed8b-0951-4dab-b6b4-a0f5e9df20b7', 'createdAt': '2025-03-19T04:33:43.903Z', 'status': 'PROCESSING', 'model': 'sync-1.9.0-beta', 'input': [{'url': 'https://drive.google.com/uc?id=1MYUBFrzfIwLHrPRmNwUfPuNBakUC6GiO', 'type': 'video'}, {'url': 'https://drive.google.com/uc?id=16D0en1rejmFtWA6H89H8P0gtAtJuxqAe', 'type': 'audio'}], 'webhookUrl': None, 'options': {'fps': 25, 'pads': [0, 5, 0, 0], 'speedup': 1, 'sync_mode': 'bounce', 'output_format': 'mp4', 'active_speaker': True, 'output_resolution': [1280, 720]}, 'outputUrl': None, 'outputDuration': None, 'error': None}\n",
            "[Sync API] Error: {\"id\":\"4be5ed8b-0951-4dab-b6b4-a0f5e9df20b7\",\"createdAt\":\"2025-03-19T04:33:43.903Z\",\"status\":\"PROCESSING\",\"model\":\"sync-1.9.0-beta\",\"input\":[{\"url\":\"https://drive.google.com/uc?id=1MYUBFrzfIwLHrPRmNwUfPuNBakUC6GiO\",\"type\":\"video\"},{\"url\":\"https://drive.google.com/uc?id=16D0en1rejmFtWA6H89H8P0gtAtJuxqAe\",\"type\":\"audio\"}],\"webhookUrl\":null,\"options\":{\"fps\":25,\"pads\":[0,5,0,0],\"speedup\":1,\"sync_mode\":\"bounce\",\"output_format\":\"mp4\",\"active_speaker\":true,\"output_resolution\":[1280,720]},\"outputUrl\":null,\"outputDuration\":null,\"error\":null}\n",
            "The entire dict, polling {'id': '4be5ed8b-0951-4dab-b6b4-a0f5e9df20b7', 'createdAt': '2025-03-19T04:33:43.903Z', 'status': 'PROCESSING', 'model': 'sync-1.9.0-beta', 'input': [{'url': 'https://drive.google.com/uc?id=1MYUBFrzfIwLHrPRmNwUfPuNBakUC6GiO', 'type': 'video'}, {'url': 'https://drive.google.com/uc?id=16D0en1rejmFtWA6H89H8P0gtAtJuxqAe', 'type': 'audio'}], 'webhookUrl': None, 'options': {'fps': 25, 'pads': [0, 5, 0, 0], 'speedup': 1, 'sync_mode': 'bounce', 'output_format': 'mp4', 'active_speaker': True, 'output_resolution': [1280, 720]}, 'outputUrl': None, 'outputDuration': None, 'error': None}\n",
            "[Sync API] Error: {\"id\":\"4be5ed8b-0951-4dab-b6b4-a0f5e9df20b7\",\"createdAt\":\"2025-03-19T04:33:43.903Z\",\"status\":\"PROCESSING\",\"model\":\"sync-1.9.0-beta\",\"input\":[{\"url\":\"https://drive.google.com/uc?id=1MYUBFrzfIwLHrPRmNwUfPuNBakUC6GiO\",\"type\":\"video\"},{\"url\":\"https://drive.google.com/uc?id=16D0en1rejmFtWA6H89H8P0gtAtJuxqAe\",\"type\":\"audio\"}],\"webhookUrl\":null,\"options\":{\"fps\":25,\"pads\":[0,5,0,0],\"speedup\":1,\"sync_mode\":\"bounce\",\"output_format\":\"mp4\",\"active_speaker\":true,\"output_resolution\":[1280,720]},\"outputUrl\":null,\"outputDuration\":null,\"error\":null}\n",
            "The entire dict, polling {'id': '4be5ed8b-0951-4dab-b6b4-a0f5e9df20b7', 'createdAt': '2025-03-19T04:33:43.903Z', 'status': 'PROCESSING', 'model': 'sync-1.9.0-beta', 'input': [{'url': 'https://drive.google.com/uc?id=1MYUBFrzfIwLHrPRmNwUfPuNBakUC6GiO', 'type': 'video'}, {'url': 'https://drive.google.com/uc?id=16D0en1rejmFtWA6H89H8P0gtAtJuxqAe', 'type': 'audio'}], 'webhookUrl': None, 'options': {'fps': 25, 'pads': [0, 5, 0, 0], 'speedup': 1, 'sync_mode': 'bounce', 'output_format': 'mp4', 'active_speaker': True, 'output_resolution': [1280, 720]}, 'outputUrl': None, 'outputDuration': None, 'error': None}\n",
            "[Sync API] Error: {\"id\":\"4be5ed8b-0951-4dab-b6b4-a0f5e9df20b7\",\"createdAt\":\"2025-03-19T04:33:43.903Z\",\"status\":\"PROCESSING\",\"model\":\"sync-1.9.0-beta\",\"input\":[{\"url\":\"https://drive.google.com/uc?id=1MYUBFrzfIwLHrPRmNwUfPuNBakUC6GiO\",\"type\":\"video\"},{\"url\":\"https://drive.google.com/uc?id=16D0en1rejmFtWA6H89H8P0gtAtJuxqAe\",\"type\":\"audio\"}],\"webhookUrl\":null,\"options\":{\"fps\":25,\"pads\":[0,5,0,0],\"speedup\":1,\"sync_mode\":\"bounce\",\"output_format\":\"mp4\",\"active_speaker\":true,\"output_resolution\":[1280,720]},\"outputUrl\":null,\"outputDuration\":null,\"error\":null}\n",
            "The entire dict, polling {'id': '4be5ed8b-0951-4dab-b6b4-a0f5e9df20b7', 'createdAt': '2025-03-19T04:33:43.903Z', 'status': 'PROCESSING', 'model': 'sync-1.9.0-beta', 'input': [{'url': 'https://drive.google.com/uc?id=1MYUBFrzfIwLHrPRmNwUfPuNBakUC6GiO', 'type': 'video'}, {'url': 'https://drive.google.com/uc?id=16D0en1rejmFtWA6H89H8P0gtAtJuxqAe', 'type': 'audio'}], 'webhookUrl': None, 'options': {'fps': 25, 'pads': [0, 5, 0, 0], 'speedup': 1, 'sync_mode': 'bounce', 'output_format': 'mp4', 'active_speaker': True, 'output_resolution': [1280, 720]}, 'outputUrl': None, 'outputDuration': None, 'error': None}\n",
            "[Sync API] Error: {\"id\":\"4be5ed8b-0951-4dab-b6b4-a0f5e9df20b7\",\"createdAt\":\"2025-03-19T04:33:43.903Z\",\"status\":\"PROCESSING\",\"model\":\"sync-1.9.0-beta\",\"input\":[{\"url\":\"https://drive.google.com/uc?id=1MYUBFrzfIwLHrPRmNwUfPuNBakUC6GiO\",\"type\":\"video\"},{\"url\":\"https://drive.google.com/uc?id=16D0en1rejmFtWA6H89H8P0gtAtJuxqAe\",\"type\":\"audio\"}],\"webhookUrl\":null,\"options\":{\"fps\":25,\"pads\":[0,5,0,0],\"speedup\":1,\"sync_mode\":\"bounce\",\"output_format\":\"mp4\",\"active_speaker\":true,\"output_resolution\":[1280,720]},\"outputUrl\":null,\"outputDuration\":null,\"error\":null}\n",
            "The entire dict, polling {'id': '4be5ed8b-0951-4dab-b6b4-a0f5e9df20b7', 'createdAt': '2025-03-19T04:33:43.903Z', 'status': 'PROCESSING', 'model': 'sync-1.9.0-beta', 'input': [{'url': 'https://drive.google.com/uc?id=1MYUBFrzfIwLHrPRmNwUfPuNBakUC6GiO', 'type': 'video'}, {'url': 'https://drive.google.com/uc?id=16D0en1rejmFtWA6H89H8P0gtAtJuxqAe', 'type': 'audio'}], 'webhookUrl': None, 'options': {'fps': 25, 'pads': [0, 5, 0, 0], 'speedup': 1, 'sync_mode': 'bounce', 'output_format': 'mp4', 'active_speaker': True, 'output_resolution': [1280, 720]}, 'outputUrl': None, 'outputDuration': None, 'error': None}\n",
            "[Sync API] Error: {\"id\":\"4be5ed8b-0951-4dab-b6b4-a0f5e9df20b7\",\"createdAt\":\"2025-03-19T04:33:43.903Z\",\"status\":\"PROCESSING\",\"model\":\"sync-1.9.0-beta\",\"input\":[{\"url\":\"https://drive.google.com/uc?id=1MYUBFrzfIwLHrPRmNwUfPuNBakUC6GiO\",\"type\":\"video\"},{\"url\":\"https://drive.google.com/uc?id=16D0en1rejmFtWA6H89H8P0gtAtJuxqAe\",\"type\":\"audio\"}],\"webhookUrl\":null,\"options\":{\"fps\":25,\"pads\":[0,5,0,0],\"speedup\":1,\"sync_mode\":\"bounce\",\"output_format\":\"mp4\",\"active_speaker\":true,\"output_resolution\":[1280,720]},\"outputUrl\":null,\"outputDuration\":null,\"error\":null}\n",
            "The entire dict, polling {'id': '4be5ed8b-0951-4dab-b6b4-a0f5e9df20b7', 'createdAt': '2025-03-19T04:33:43.903Z', 'status': 'PROCESSING', 'model': 'sync-1.9.0-beta', 'input': [{'url': 'https://drive.google.com/uc?id=1MYUBFrzfIwLHrPRmNwUfPuNBakUC6GiO', 'type': 'video'}, {'url': 'https://drive.google.com/uc?id=16D0en1rejmFtWA6H89H8P0gtAtJuxqAe', 'type': 'audio'}], 'webhookUrl': None, 'options': {'fps': 25, 'pads': [0, 5, 0, 0], 'speedup': 1, 'sync_mode': 'bounce', 'output_format': 'mp4', 'active_speaker': True, 'output_resolution': [1280, 720]}, 'outputUrl': None, 'outputDuration': None, 'error': None}\n",
            "[Sync API] Error: {\"id\":\"4be5ed8b-0951-4dab-b6b4-a0f5e9df20b7\",\"createdAt\":\"2025-03-19T04:33:43.903Z\",\"status\":\"PROCESSING\",\"model\":\"sync-1.9.0-beta\",\"input\":[{\"url\":\"https://drive.google.com/uc?id=1MYUBFrzfIwLHrPRmNwUfPuNBakUC6GiO\",\"type\":\"video\"},{\"url\":\"https://drive.google.com/uc?id=16D0en1rejmFtWA6H89H8P0gtAtJuxqAe\",\"type\":\"audio\"}],\"webhookUrl\":null,\"options\":{\"fps\":25,\"pads\":[0,5,0,0],\"speedup\":1,\"sync_mode\":\"bounce\",\"output_format\":\"mp4\",\"active_speaker\":true,\"output_resolution\":[1280,720]},\"outputUrl\":null,\"outputDuration\":null,\"error\":null}\n",
            "The entire dict, polling {'id': '4be5ed8b-0951-4dab-b6b4-a0f5e9df20b7', 'createdAt': '2025-03-19T04:33:43.903Z', 'status': 'PROCESSING', 'model': 'sync-1.9.0-beta', 'input': [{'url': 'https://drive.google.com/uc?id=1MYUBFrzfIwLHrPRmNwUfPuNBakUC6GiO', 'type': 'video'}, {'url': 'https://drive.google.com/uc?id=16D0en1rejmFtWA6H89H8P0gtAtJuxqAe', 'type': 'audio'}], 'webhookUrl': None, 'options': {'fps': 25, 'pads': [0, 5, 0, 0], 'speedup': 1, 'sync_mode': 'bounce', 'output_format': 'mp4', 'active_speaker': True, 'output_resolution': [1280, 720]}, 'outputUrl': None, 'outputDuration': None, 'error': None}\n",
            "[Sync API] Error: {\"id\":\"4be5ed8b-0951-4dab-b6b4-a0f5e9df20b7\",\"createdAt\":\"2025-03-19T04:33:43.903Z\",\"status\":\"PROCESSING\",\"model\":\"sync-1.9.0-beta\",\"input\":[{\"url\":\"https://drive.google.com/uc?id=1MYUBFrzfIwLHrPRmNwUfPuNBakUC6GiO\",\"type\":\"video\"},{\"url\":\"https://drive.google.com/uc?id=16D0en1rejmFtWA6H89H8P0gtAtJuxqAe\",\"type\":\"audio\"}],\"webhookUrl\":null,\"options\":{\"fps\":25,\"pads\":[0,5,0,0],\"speedup\":1,\"sync_mode\":\"bounce\",\"output_format\":\"mp4\",\"active_speaker\":true,\"output_resolution\":[1280,720]},\"outputUrl\":null,\"outputDuration\":null,\"error\":null}\n",
            "The entire dict, polling {'id': '4be5ed8b-0951-4dab-b6b4-a0f5e9df20b7', 'createdAt': '2025-03-19T04:33:43.903Z', 'status': 'PROCESSING', 'model': 'sync-1.9.0-beta', 'input': [{'url': 'https://drive.google.com/uc?id=1MYUBFrzfIwLHrPRmNwUfPuNBakUC6GiO', 'type': 'video'}, {'url': 'https://drive.google.com/uc?id=16D0en1rejmFtWA6H89H8P0gtAtJuxqAe', 'type': 'audio'}], 'webhookUrl': None, 'options': {'fps': 25, 'pads': [0, 5, 0, 0], 'speedup': 1, 'sync_mode': 'bounce', 'output_format': 'mp4', 'active_speaker': True, 'output_resolution': [1280, 720]}, 'outputUrl': None, 'outputDuration': None, 'error': None}\n",
            "[Sync API] Error: {\"id\":\"4be5ed8b-0951-4dab-b6b4-a0f5e9df20b7\",\"createdAt\":\"2025-03-19T04:33:43.903Z\",\"status\":\"PROCESSING\",\"model\":\"sync-1.9.0-beta\",\"input\":[{\"url\":\"https://drive.google.com/uc?id=1MYUBFrzfIwLHrPRmNwUfPuNBakUC6GiO\",\"type\":\"video\"},{\"url\":\"https://drive.google.com/uc?id=16D0en1rejmFtWA6H89H8P0gtAtJuxqAe\",\"type\":\"audio\"}],\"webhookUrl\":null,\"options\":{\"fps\":25,\"pads\":[0,5,0,0],\"speedup\":1,\"sync_mode\":\"bounce\",\"output_format\":\"mp4\",\"active_speaker\":true,\"output_resolution\":[1280,720]},\"outputUrl\":null,\"outputDuration\":null,\"error\":null}\n",
            "The entire dict, polling {'id': '4be5ed8b-0951-4dab-b6b4-a0f5e9df20b7', 'createdAt': '2025-03-19T04:33:43.903Z', 'status': 'PROCESSING', 'model': 'sync-1.9.0-beta', 'input': [{'url': 'https://drive.google.com/uc?id=1MYUBFrzfIwLHrPRmNwUfPuNBakUC6GiO', 'type': 'video'}, {'url': 'https://drive.google.com/uc?id=16D0en1rejmFtWA6H89H8P0gtAtJuxqAe', 'type': 'audio'}], 'webhookUrl': None, 'options': {'fps': 25, 'pads': [0, 5, 0, 0], 'speedup': 1, 'sync_mode': 'bounce', 'output_format': 'mp4', 'active_speaker': True, 'output_resolution': [1280, 720]}, 'outputUrl': None, 'outputDuration': None, 'error': None}\n",
            "[Sync API] Error: {\"id\":\"4be5ed8b-0951-4dab-b6b4-a0f5e9df20b7\",\"createdAt\":\"2025-03-19T04:33:43.903Z\",\"status\":\"PROCESSING\",\"model\":\"sync-1.9.0-beta\",\"input\":[{\"url\":\"https://drive.google.com/uc?id=1MYUBFrzfIwLHrPRmNwUfPuNBakUC6GiO\",\"type\":\"video\"},{\"url\":\"https://drive.google.com/uc?id=16D0en1rejmFtWA6H89H8P0gtAtJuxqAe\",\"type\":\"audio\"}],\"webhookUrl\":null,\"options\":{\"fps\":25,\"pads\":[0,5,0,0],\"speedup\":1,\"sync_mode\":\"bounce\",\"output_format\":\"mp4\",\"active_speaker\":true,\"output_resolution\":[1280,720]},\"outputUrl\":null,\"outputDuration\":null,\"error\":null}\n",
            "The entire dict, polling {'id': '4be5ed8b-0951-4dab-b6b4-a0f5e9df20b7', 'createdAt': '2025-03-19T04:33:43.903Z', 'status': 'PROCESSING', 'model': 'sync-1.9.0-beta', 'input': [{'url': 'https://drive.google.com/uc?id=1MYUBFrzfIwLHrPRmNwUfPuNBakUC6GiO', 'type': 'video'}, {'url': 'https://drive.google.com/uc?id=16D0en1rejmFtWA6H89H8P0gtAtJuxqAe', 'type': 'audio'}], 'webhookUrl': None, 'options': {'fps': 25, 'pads': [0, 5, 0, 0], 'speedup': 1, 'sync_mode': 'bounce', 'output_format': 'mp4', 'active_speaker': True, 'output_resolution': [1280, 720]}, 'outputUrl': None, 'outputDuration': None, 'error': None}\n",
            "[Sync API] Error: {\"id\":\"4be5ed8b-0951-4dab-b6b4-a0f5e9df20b7\",\"createdAt\":\"2025-03-19T04:33:43.903Z\",\"status\":\"PROCESSING\",\"model\":\"sync-1.9.0-beta\",\"input\":[{\"url\":\"https://drive.google.com/uc?id=1MYUBFrzfIwLHrPRmNwUfPuNBakUC6GiO\",\"type\":\"video\"},{\"url\":\"https://drive.google.com/uc?id=16D0en1rejmFtWA6H89H8P0gtAtJuxqAe\",\"type\":\"audio\"}],\"webhookUrl\":null,\"options\":{\"fps\":25,\"pads\":[0,5,0,0],\"speedup\":1,\"sync_mode\":\"bounce\",\"output_format\":\"mp4\",\"active_speaker\":true,\"output_resolution\":[1280,720]},\"outputUrl\":null,\"outputDuration\":null,\"error\":null}\n",
            "The entire dict, polling {'id': '4be5ed8b-0951-4dab-b6b4-a0f5e9df20b7', 'createdAt': '2025-03-19T04:33:43.903Z', 'status': 'PROCESSING', 'model': 'sync-1.9.0-beta', 'input': [{'url': 'https://drive.google.com/uc?id=1MYUBFrzfIwLHrPRmNwUfPuNBakUC6GiO', 'type': 'video'}, {'url': 'https://drive.google.com/uc?id=16D0en1rejmFtWA6H89H8P0gtAtJuxqAe', 'type': 'audio'}], 'webhookUrl': None, 'options': {'fps': 25, 'pads': [0, 5, 0, 0], 'speedup': 1, 'sync_mode': 'bounce', 'output_format': 'mp4', 'active_speaker': True, 'output_resolution': [1280, 720]}, 'outputUrl': None, 'outputDuration': None, 'error': None}\n",
            "[Sync API] Error: {\"id\":\"4be5ed8b-0951-4dab-b6b4-a0f5e9df20b7\",\"createdAt\":\"2025-03-19T04:33:43.903Z\",\"status\":\"PROCESSING\",\"model\":\"sync-1.9.0-beta\",\"input\":[{\"url\":\"https://drive.google.com/uc?id=1MYUBFrzfIwLHrPRmNwUfPuNBakUC6GiO\",\"type\":\"video\"},{\"url\":\"https://drive.google.com/uc?id=16D0en1rejmFtWA6H89H8P0gtAtJuxqAe\",\"type\":\"audio\"}],\"webhookUrl\":null,\"options\":{\"fps\":25,\"pads\":[0,5,0,0],\"speedup\":1,\"sync_mode\":\"bounce\",\"output_format\":\"mp4\",\"active_speaker\":true,\"output_resolution\":[1280,720]},\"outputUrl\":null,\"outputDuration\":null,\"error\":null}\n",
            "The entire dict, polling {'id': '4be5ed8b-0951-4dab-b6b4-a0f5e9df20b7', 'createdAt': '2025-03-19T04:33:43.903Z', 'status': 'PROCESSING', 'model': 'sync-1.9.0-beta', 'input': [{'url': 'https://drive.google.com/uc?id=1MYUBFrzfIwLHrPRmNwUfPuNBakUC6GiO', 'type': 'video'}, {'url': 'https://drive.google.com/uc?id=16D0en1rejmFtWA6H89H8P0gtAtJuxqAe', 'type': 'audio'}], 'webhookUrl': None, 'options': {'fps': 25, 'pads': [0, 5, 0, 0], 'speedup': 1, 'sync_mode': 'bounce', 'output_format': 'mp4', 'active_speaker': True, 'output_resolution': [1280, 720]}, 'outputUrl': None, 'outputDuration': None, 'error': None}\n",
            "[Sync API] Error: {\"id\":\"4be5ed8b-0951-4dab-b6b4-a0f5e9df20b7\",\"createdAt\":\"2025-03-19T04:33:43.903Z\",\"status\":\"PROCESSING\",\"model\":\"sync-1.9.0-beta\",\"input\":[{\"url\":\"https://drive.google.com/uc?id=1MYUBFrzfIwLHrPRmNwUfPuNBakUC6GiO\",\"type\":\"video\"},{\"url\":\"https://drive.google.com/uc?id=16D0en1rejmFtWA6H89H8P0gtAtJuxqAe\",\"type\":\"audio\"}],\"webhookUrl\":null,\"options\":{\"fps\":25,\"pads\":[0,5,0,0],\"speedup\":1,\"sync_mode\":\"bounce\",\"output_format\":\"mp4\",\"active_speaker\":true,\"output_resolution\":[1280,720]},\"outputUrl\":null,\"outputDuration\":null,\"error\":null}\n",
            "The entire dict, polling {'id': '4be5ed8b-0951-4dab-b6b4-a0f5e9df20b7', 'createdAt': '2025-03-19T04:33:43.903Z', 'status': 'PROCESSING', 'model': 'sync-1.9.0-beta', 'input': [{'url': 'https://drive.google.com/uc?id=1MYUBFrzfIwLHrPRmNwUfPuNBakUC6GiO', 'type': 'video'}, {'url': 'https://drive.google.com/uc?id=16D0en1rejmFtWA6H89H8P0gtAtJuxqAe', 'type': 'audio'}], 'webhookUrl': None, 'options': {'fps': 25, 'pads': [0, 5, 0, 0], 'speedup': 1, 'sync_mode': 'bounce', 'output_format': 'mp4', 'active_speaker': True, 'output_resolution': [1280, 720]}, 'outputUrl': None, 'outputDuration': None, 'error': None}\n",
            "[Sync API] Error: {\"id\":\"4be5ed8b-0951-4dab-b6b4-a0f5e9df20b7\",\"createdAt\":\"2025-03-19T04:33:43.903Z\",\"status\":\"PROCESSING\",\"model\":\"sync-1.9.0-beta\",\"input\":[{\"url\":\"https://drive.google.com/uc?id=1MYUBFrzfIwLHrPRmNwUfPuNBakUC6GiO\",\"type\":\"video\"},{\"url\":\"https://drive.google.com/uc?id=16D0en1rejmFtWA6H89H8P0gtAtJuxqAe\",\"type\":\"audio\"}],\"webhookUrl\":null,\"options\":{\"fps\":25,\"pads\":[0,5,0,0],\"speedup\":1,\"sync_mode\":\"bounce\",\"output_format\":\"mp4\",\"active_speaker\":true,\"output_resolution\":[1280,720]},\"outputUrl\":null,\"outputDuration\":null,\"error\":null}\n",
            "The entire dict, polling {'id': '4be5ed8b-0951-4dab-b6b4-a0f5e9df20b7', 'createdAt': '2025-03-19T04:33:43.903Z', 'status': 'PROCESSING', 'model': 'sync-1.9.0-beta', 'input': [{'url': 'https://drive.google.com/uc?id=1MYUBFrzfIwLHrPRmNwUfPuNBakUC6GiO', 'type': 'video'}, {'url': 'https://drive.google.com/uc?id=16D0en1rejmFtWA6H89H8P0gtAtJuxqAe', 'type': 'audio'}], 'webhookUrl': None, 'options': {'fps': 25, 'pads': [0, 5, 0, 0], 'speedup': 1, 'sync_mode': 'bounce', 'output_format': 'mp4', 'active_speaker': True, 'output_resolution': [1280, 720]}, 'outputUrl': None, 'outputDuration': None, 'error': None}\n",
            "[Sync API] Error: {\"id\":\"4be5ed8b-0951-4dab-b6b4-a0f5e9df20b7\",\"createdAt\":\"2025-03-19T04:33:43.903Z\",\"status\":\"PROCESSING\",\"model\":\"sync-1.9.0-beta\",\"input\":[{\"url\":\"https://drive.google.com/uc?id=1MYUBFrzfIwLHrPRmNwUfPuNBakUC6GiO\",\"type\":\"video\"},{\"url\":\"https://drive.google.com/uc?id=16D0en1rejmFtWA6H89H8P0gtAtJuxqAe\",\"type\":\"audio\"}],\"webhookUrl\":null,\"options\":{\"fps\":25,\"pads\":[0,5,0,0],\"speedup\":1,\"sync_mode\":\"bounce\",\"output_format\":\"mp4\",\"active_speaker\":true,\"output_resolution\":[1280,720]},\"outputUrl\":null,\"outputDuration\":null,\"error\":null}\n",
            "The entire dict, polling {'id': '4be5ed8b-0951-4dab-b6b4-a0f5e9df20b7', 'createdAt': '2025-03-19T04:33:43.903Z', 'status': 'PROCESSING', 'model': 'sync-1.9.0-beta', 'input': [{'url': 'https://drive.google.com/uc?id=1MYUBFrzfIwLHrPRmNwUfPuNBakUC6GiO', 'type': 'video'}, {'url': 'https://drive.google.com/uc?id=16D0en1rejmFtWA6H89H8P0gtAtJuxqAe', 'type': 'audio'}], 'webhookUrl': None, 'options': {'fps': 25, 'pads': [0, 5, 0, 0], 'speedup': 1, 'sync_mode': 'bounce', 'output_format': 'mp4', 'active_speaker': True, 'output_resolution': [1280, 720]}, 'outputUrl': None, 'outputDuration': None, 'error': None}\n",
            "[Sync API] Error: {\"id\":\"4be5ed8b-0951-4dab-b6b4-a0f5e9df20b7\",\"createdAt\":\"2025-03-19T04:33:43.903Z\",\"status\":\"PROCESSING\",\"model\":\"sync-1.9.0-beta\",\"input\":[{\"url\":\"https://drive.google.com/uc?id=1MYUBFrzfIwLHrPRmNwUfPuNBakUC6GiO\",\"type\":\"video\"},{\"url\":\"https://drive.google.com/uc?id=16D0en1rejmFtWA6H89H8P0gtAtJuxqAe\",\"type\":\"audio\"}],\"webhookUrl\":null,\"options\":{\"fps\":25,\"pads\":[0,5,0,0],\"speedup\":1,\"sync_mode\":\"bounce\",\"output_format\":\"mp4\",\"active_speaker\":true,\"output_resolution\":[1280,720]},\"outputUrl\":null,\"outputDuration\":null,\"error\":null}\n",
            "The entire dict, polling {'id': '4be5ed8b-0951-4dab-b6b4-a0f5e9df20b7', 'createdAt': '2025-03-19T04:33:43.903Z', 'status': 'PROCESSING', 'model': 'sync-1.9.0-beta', 'input': [{'url': 'https://drive.google.com/uc?id=1MYUBFrzfIwLHrPRmNwUfPuNBakUC6GiO', 'type': 'video'}, {'url': 'https://drive.google.com/uc?id=16D0en1rejmFtWA6H89H8P0gtAtJuxqAe', 'type': 'audio'}], 'webhookUrl': None, 'options': {'fps': 25, 'pads': [0, 5, 0, 0], 'speedup': 1, 'sync_mode': 'bounce', 'output_format': 'mp4', 'active_speaker': True, 'output_resolution': [1280, 720]}, 'outputUrl': None, 'outputDuration': None, 'error': None}\n",
            "[Sync API] Error: {\"id\":\"4be5ed8b-0951-4dab-b6b4-a0f5e9df20b7\",\"createdAt\":\"2025-03-19T04:33:43.903Z\",\"status\":\"PROCESSING\",\"model\":\"sync-1.9.0-beta\",\"input\":[{\"url\":\"https://drive.google.com/uc?id=1MYUBFrzfIwLHrPRmNwUfPuNBakUC6GiO\",\"type\":\"video\"},{\"url\":\"https://drive.google.com/uc?id=16D0en1rejmFtWA6H89H8P0gtAtJuxqAe\",\"type\":\"audio\"}],\"webhookUrl\":null,\"options\":{\"fps\":25,\"pads\":[0,5,0,0],\"speedup\":1,\"sync_mode\":\"bounce\",\"output_format\":\"mp4\",\"active_speaker\":true,\"output_resolution\":[1280,720]},\"outputUrl\":null,\"outputDuration\":null,\"error\":null}\n",
            "The entire dict, polling {'id': '4be5ed8b-0951-4dab-b6b4-a0f5e9df20b7', 'createdAt': '2025-03-19T04:33:43.903Z', 'status': 'PROCESSING', 'model': 'sync-1.9.0-beta', 'input': [{'url': 'https://drive.google.com/uc?id=1MYUBFrzfIwLHrPRmNwUfPuNBakUC6GiO', 'type': 'video'}, {'url': 'https://drive.google.com/uc?id=16D0en1rejmFtWA6H89H8P0gtAtJuxqAe', 'type': 'audio'}], 'webhookUrl': None, 'options': {'fps': 25, 'pads': [0, 5, 0, 0], 'speedup': 1, 'sync_mode': 'bounce', 'output_format': 'mp4', 'active_speaker': True, 'output_resolution': [1280, 720]}, 'outputUrl': None, 'outputDuration': None, 'error': None}\n",
            "[Sync API] Error: {\"id\":\"4be5ed8b-0951-4dab-b6b4-a0f5e9df20b7\",\"createdAt\":\"2025-03-19T04:33:43.903Z\",\"status\":\"PROCESSING\",\"model\":\"sync-1.9.0-beta\",\"input\":[{\"url\":\"https://drive.google.com/uc?id=1MYUBFrzfIwLHrPRmNwUfPuNBakUC6GiO\",\"type\":\"video\"},{\"url\":\"https://drive.google.com/uc?id=16D0en1rejmFtWA6H89H8P0gtAtJuxqAe\",\"type\":\"audio\"}],\"webhookUrl\":null,\"options\":{\"fps\":25,\"pads\":[0,5,0,0],\"speedup\":1,\"sync_mode\":\"bounce\",\"output_format\":\"mp4\",\"active_speaker\":true,\"output_resolution\":[1280,720]},\"outputUrl\":null,\"outputDuration\":null,\"error\":null}\n",
            "The entire dict, polling {'id': '4be5ed8b-0951-4dab-b6b4-a0f5e9df20b7', 'createdAt': '2025-03-19T04:33:43.903Z', 'status': 'PROCESSING', 'model': 'sync-1.9.0-beta', 'input': [{'url': 'https://drive.google.com/uc?id=1MYUBFrzfIwLHrPRmNwUfPuNBakUC6GiO', 'type': 'video'}, {'url': 'https://drive.google.com/uc?id=16D0en1rejmFtWA6H89H8P0gtAtJuxqAe', 'type': 'audio'}], 'webhookUrl': None, 'options': {'fps': 25, 'pads': [0, 5, 0, 0], 'speedup': 1, 'sync_mode': 'bounce', 'output_format': 'mp4', 'active_speaker': True, 'output_resolution': [1280, 720]}, 'outputUrl': None, 'outputDuration': None, 'error': None}\n",
            "[Sync API] Error: {\"id\":\"4be5ed8b-0951-4dab-b6b4-a0f5e9df20b7\",\"createdAt\":\"2025-03-19T04:33:43.903Z\",\"status\":\"PROCESSING\",\"model\":\"sync-1.9.0-beta\",\"input\":[{\"url\":\"https://drive.google.com/uc?id=1MYUBFrzfIwLHrPRmNwUfPuNBakUC6GiO\",\"type\":\"video\"},{\"url\":\"https://drive.google.com/uc?id=16D0en1rejmFtWA6H89H8P0gtAtJuxqAe\",\"type\":\"audio\"}],\"webhookUrl\":null,\"options\":{\"fps\":25,\"pads\":[0,5,0,0],\"speedup\":1,\"sync_mode\":\"bounce\",\"output_format\":\"mp4\",\"active_speaker\":true,\"output_resolution\":[1280,720]},\"outputUrl\":null,\"outputDuration\":null,\"error\":null}\n",
            "The entire dict, polling {'id': '4be5ed8b-0951-4dab-b6b4-a0f5e9df20b7', 'createdAt': '2025-03-19T04:33:43.903Z', 'status': 'PROCESSING', 'model': 'sync-1.9.0-beta', 'input': [{'url': 'https://drive.google.com/uc?id=1MYUBFrzfIwLHrPRmNwUfPuNBakUC6GiO', 'type': 'video'}, {'url': 'https://drive.google.com/uc?id=16D0en1rejmFtWA6H89H8P0gtAtJuxqAe', 'type': 'audio'}], 'webhookUrl': None, 'options': {'fps': 25, 'pads': [0, 5, 0, 0], 'speedup': 1, 'sync_mode': 'bounce', 'output_format': 'mp4', 'active_speaker': True, 'output_resolution': [1280, 720]}, 'outputUrl': None, 'outputDuration': None, 'error': None}\n",
            "[Sync API] Error: {\"id\":\"4be5ed8b-0951-4dab-b6b4-a0f5e9df20b7\",\"createdAt\":\"2025-03-19T04:33:43.903Z\",\"status\":\"PROCESSING\",\"model\":\"sync-1.9.0-beta\",\"input\":[{\"url\":\"https://drive.google.com/uc?id=1MYUBFrzfIwLHrPRmNwUfPuNBakUC6GiO\",\"type\":\"video\"},{\"url\":\"https://drive.google.com/uc?id=16D0en1rejmFtWA6H89H8P0gtAtJuxqAe\",\"type\":\"audio\"}],\"webhookUrl\":null,\"options\":{\"fps\":25,\"pads\":[0,5,0,0],\"speedup\":1,\"sync_mode\":\"bounce\",\"output_format\":\"mp4\",\"active_speaker\":true,\"output_resolution\":[1280,720]},\"outputUrl\":null,\"outputDuration\":null,\"error\":null}\n",
            "The entire dict, polling {'id': '4be5ed8b-0951-4dab-b6b4-a0f5e9df20b7', 'createdAt': '2025-03-19T04:33:43.903Z', 'status': 'PROCESSING', 'model': 'sync-1.9.0-beta', 'input': [{'url': 'https://drive.google.com/uc?id=1MYUBFrzfIwLHrPRmNwUfPuNBakUC6GiO', 'type': 'video'}, {'url': 'https://drive.google.com/uc?id=16D0en1rejmFtWA6H89H8P0gtAtJuxqAe', 'type': 'audio'}], 'webhookUrl': None, 'options': {'fps': 25, 'pads': [0, 5, 0, 0], 'speedup': 1, 'sync_mode': 'bounce', 'output_format': 'mp4', 'active_speaker': True, 'output_resolution': [1280, 720]}, 'outputUrl': None, 'outputDuration': None, 'error': None}\n",
            "[Sync API] Error: {\"id\":\"4be5ed8b-0951-4dab-b6b4-a0f5e9df20b7\",\"createdAt\":\"2025-03-19T04:33:43.903Z\",\"status\":\"PROCESSING\",\"model\":\"sync-1.9.0-beta\",\"input\":[{\"url\":\"https://drive.google.com/uc?id=1MYUBFrzfIwLHrPRmNwUfPuNBakUC6GiO\",\"type\":\"video\"},{\"url\":\"https://drive.google.com/uc?id=16D0en1rejmFtWA6H89H8P0gtAtJuxqAe\",\"type\":\"audio\"}],\"webhookUrl\":null,\"options\":{\"fps\":25,\"pads\":[0,5,0,0],\"speedup\":1,\"sync_mode\":\"bounce\",\"output_format\":\"mp4\",\"active_speaker\":true,\"output_resolution\":[1280,720]},\"outputUrl\":null,\"outputDuration\":null,\"error\":null}\n",
            "The entire dict, polling {'id': '4be5ed8b-0951-4dab-b6b4-a0f5e9df20b7', 'createdAt': '2025-03-19T04:33:43.903Z', 'status': 'PROCESSING', 'model': 'sync-1.9.0-beta', 'input': [{'url': 'https://drive.google.com/uc?id=1MYUBFrzfIwLHrPRmNwUfPuNBakUC6GiO', 'type': 'video'}, {'url': 'https://drive.google.com/uc?id=16D0en1rejmFtWA6H89H8P0gtAtJuxqAe', 'type': 'audio'}], 'webhookUrl': None, 'options': {'fps': 25, 'pads': [0, 5, 0, 0], 'speedup': 1, 'sync_mode': 'bounce', 'output_format': 'mp4', 'active_speaker': True, 'output_resolution': [1280, 720]}, 'outputUrl': None, 'outputDuration': None, 'error': None}\n",
            "[Sync API] Error: {\"id\":\"4be5ed8b-0951-4dab-b6b4-a0f5e9df20b7\",\"createdAt\":\"2025-03-19T04:33:43.903Z\",\"status\":\"PROCESSING\",\"model\":\"sync-1.9.0-beta\",\"input\":[{\"url\":\"https://drive.google.com/uc?id=1MYUBFrzfIwLHrPRmNwUfPuNBakUC6GiO\",\"type\":\"video\"},{\"url\":\"https://drive.google.com/uc?id=16D0en1rejmFtWA6H89H8P0gtAtJuxqAe\",\"type\":\"audio\"}],\"webhookUrl\":null,\"options\":{\"fps\":25,\"pads\":[0,5,0,0],\"speedup\":1,\"sync_mode\":\"bounce\",\"output_format\":\"mp4\",\"active_speaker\":true,\"output_resolution\":[1280,720]},\"outputUrl\":null,\"outputDuration\":null,\"error\":null}\n",
            "The entire dict, polling {'id': '4be5ed8b-0951-4dab-b6b4-a0f5e9df20b7', 'createdAt': '2025-03-19T04:33:43.903Z', 'status': 'COMPLETED', 'model': 'sync-1.9.0-beta', 'input': [{'url': 'https://drive.google.com/uc?id=1MYUBFrzfIwLHrPRmNwUfPuNBakUC6GiO', 'type': 'video'}, {'url': 'https://drive.google.com/uc?id=16D0en1rejmFtWA6H89H8P0gtAtJuxqAe', 'type': 'audio'}], 'webhookUrl': None, 'options': {'fps': 25, 'pads': [0, 5, 0, 0], 'speedup': 1, 'sync_mode': 'bounce', 'output_format': 'mp4', 'active_speaker': True, 'output_resolution': [1280, 720]}, 'outputUrl': 'https://api.sync.so/v2/generations/4be5ed8b-0951-4dab-b6b4-a0f5e9df20b7/result?token=8bf9c6ba-813e-4d38-85ee-d3127cfa016c', 'outputDuration': 22.61, 'error': None}\n",
            "[Sync API] Video is ready: https://api.sync.so/v2/generations/4be5ed8b-0951-4dab-b6b4-a0f5e9df20b7/result?token=8bf9c6ba-813e-4d38-85ee-d3127cfa016c\n",
            "video generation:  214.92120504379272\n",
            "Video successfully downloaded and saved to /content/drive/MyDrive/Wav2Lip/results/alchemist_video.mp4\n",
            "The entire response_dict, VALID {'id': '4be5ed8b-0951-4dab-b6b4-a0f5e9df20b7', 'createdAt': '2025-03-19T04:33:43.903Z', 'status': 'PENDING', 'model': 'sync-1.9.0-beta', 'input': [{'url': 'https://drive.google.com/uc?id=1MYUBFrzfIwLHrPRmNwUfPuNBakUC6GiO', 'type': 'video'}, {'url': 'https://drive.google.com/uc?id=16D0en1rejmFtWA6H89H8P0gtAtJuxqAe', 'type': 'audio'}], 'webhookUrl': None, 'options': {'fps': 25, 'pads': [0, 5, 0, 0], 'speedup': 1, 'sync_mode': 'bounce', 'output_format': 'mp4', 'active_speaker': True, 'output_resolution': [1280, 720]}, 'outputUrl': None, 'outputDuration': None, 'error': None}\n",
            "[Loop] Video Ready: https://api.sync.so/v2/generations/4be5ed8b-0951-4dab-b6b4-a0f5e9df20b7/result?token=8bf9c6ba-813e-4d38-85ee-d3127cfa016c\n",
            "[Loop] Awaiting next input...\n",
            "\n"
          ]
        },
        {
          "output_type": "error",
          "ename": "KeyboardInterrupt",
          "evalue": "Interrupted by user",
          "traceback": [
            "\u001b[0;31m---------------------------------------------------------------------------\u001b[0m",
            "\u001b[0;31mKeyboardInterrupt\u001b[0m                         Traceback (most recent call last)",
            "\u001b[0;32m<ipython-input-76-4ad283e83c62>\u001b[0m in \u001b[0;36m<cell line: 0>\u001b[0;34m()\u001b[0m\n\u001b[1;32m    144\u001b[0m \u001b[0;31m# Run the loop\u001b[0m\u001b[0;34m\u001b[0m\u001b[0;34m\u001b[0m\u001b[0m\n\u001b[1;32m    145\u001b[0m \u001b[0;32mif\u001b[0m \u001b[0m__name__\u001b[0m \u001b[0;34m==\u001b[0m \u001b[0;34m\"__main__\"\u001b[0m\u001b[0;34m:\u001b[0m\u001b[0;34m\u001b[0m\u001b[0;34m\u001b[0m\u001b[0m\n\u001b[0;32m--> 146\u001b[0;31m     \u001b[0mchat_loop\u001b[0m\u001b[0;34m(\u001b[0m\u001b[0;34m)\u001b[0m\u001b[0;34m\u001b[0m\u001b[0;34m\u001b[0m\u001b[0m\n\u001b[0m",
            "\u001b[0;32m<ipython-input-76-4ad283e83c62>\u001b[0m in \u001b[0;36mchat_loop\u001b[0;34m()\u001b[0m\n\u001b[1;32m    122\u001b[0m     \u001b[0mprint\u001b[0m\u001b[0;34m(\u001b[0m\u001b[0;34m\"Welcome to the chat! Type 'exit' to quit.\"\u001b[0m\u001b[0;34m)\u001b[0m\u001b[0;34m\u001b[0m\u001b[0;34m\u001b[0m\u001b[0m\n\u001b[1;32m    123\u001b[0m     \u001b[0;32mwhile\u001b[0m \u001b[0;32mTrue\u001b[0m\u001b[0;34m:\u001b[0m\u001b[0;34m\u001b[0m\u001b[0;34m\u001b[0m\u001b[0m\n\u001b[0;32m--> 124\u001b[0;31m         \u001b[0muser_input\u001b[0m \u001b[0;34m=\u001b[0m \u001b[0minput\u001b[0m\u001b[0;34m(\u001b[0m\u001b[0;34m\"You: \"\u001b[0m\u001b[0;34m)\u001b[0m\u001b[0;34m\u001b[0m\u001b[0;34m\u001b[0m\u001b[0m\n\u001b[0m\u001b[1;32m    125\u001b[0m         \u001b[0;32mif\u001b[0m \u001b[0muser_input\u001b[0m\u001b[0;34m.\u001b[0m\u001b[0mlower\u001b[0m\u001b[0;34m(\u001b[0m\u001b[0;34m)\u001b[0m \u001b[0;34m==\u001b[0m \u001b[0;34m\"exit\"\u001b[0m\u001b[0;34m:\u001b[0m\u001b[0;34m\u001b[0m\u001b[0;34m\u001b[0m\u001b[0m\n\u001b[1;32m    126\u001b[0m             \u001b[0mprint\u001b[0m\u001b[0;34m(\u001b[0m\u001b[0;34m\"Exiting chat. Goodbye!\"\u001b[0m\u001b[0;34m)\u001b[0m\u001b[0;34m\u001b[0m\u001b[0;34m\u001b[0m\u001b[0m\n",
            "\u001b[0;32m/usr/local/lib/python3.11/dist-packages/ipykernel/kernelbase.py\u001b[0m in \u001b[0;36mraw_input\u001b[0;34m(self, prompt)\u001b[0m\n\u001b[1;32m   1175\u001b[0m                 \u001b[0;34m\"raw_input was called, but this frontend does not support input requests.\"\u001b[0m\u001b[0;34m\u001b[0m\u001b[0;34m\u001b[0m\u001b[0m\n\u001b[1;32m   1176\u001b[0m             )\n\u001b[0;32m-> 1177\u001b[0;31m         return self._input_request(\n\u001b[0m\u001b[1;32m   1178\u001b[0m             \u001b[0mstr\u001b[0m\u001b[0;34m(\u001b[0m\u001b[0mprompt\u001b[0m\u001b[0;34m)\u001b[0m\u001b[0;34m,\u001b[0m\u001b[0;34m\u001b[0m\u001b[0;34m\u001b[0m\u001b[0m\n\u001b[1;32m   1179\u001b[0m             \u001b[0mself\u001b[0m\u001b[0;34m.\u001b[0m\u001b[0m_parent_ident\u001b[0m\u001b[0;34m[\u001b[0m\u001b[0;34m\"shell\"\u001b[0m\u001b[0;34m]\u001b[0m\u001b[0;34m,\u001b[0m\u001b[0;34m\u001b[0m\u001b[0;34m\u001b[0m\u001b[0m\n",
            "\u001b[0;32m/usr/local/lib/python3.11/dist-packages/ipykernel/kernelbase.py\u001b[0m in \u001b[0;36m_input_request\u001b[0;34m(self, prompt, ident, parent, password)\u001b[0m\n\u001b[1;32m   1217\u001b[0m             \u001b[0;32mexcept\u001b[0m \u001b[0mKeyboardInterrupt\u001b[0m\u001b[0;34m:\u001b[0m\u001b[0;34m\u001b[0m\u001b[0;34m\u001b[0m\u001b[0m\n\u001b[1;32m   1218\u001b[0m                 \u001b[0;31m# re-raise KeyboardInterrupt, to truncate traceback\u001b[0m\u001b[0;34m\u001b[0m\u001b[0;34m\u001b[0m\u001b[0m\n\u001b[0;32m-> 1219\u001b[0;31m                 \u001b[0;32mraise\u001b[0m \u001b[0mKeyboardInterrupt\u001b[0m\u001b[0;34m(\u001b[0m\u001b[0;34m\"Interrupted by user\"\u001b[0m\u001b[0;34m)\u001b[0m \u001b[0;32mfrom\u001b[0m \u001b[0;32mNone\u001b[0m\u001b[0;34m\u001b[0m\u001b[0;34m\u001b[0m\u001b[0m\n\u001b[0m\u001b[1;32m   1220\u001b[0m             \u001b[0;32mexcept\u001b[0m \u001b[0mException\u001b[0m\u001b[0;34m:\u001b[0m\u001b[0;34m\u001b[0m\u001b[0;34m\u001b[0m\u001b[0m\n\u001b[1;32m   1221\u001b[0m                 \u001b[0mself\u001b[0m\u001b[0;34m.\u001b[0m\u001b[0mlog\u001b[0m\u001b[0;34m.\u001b[0m\u001b[0mwarning\u001b[0m\u001b[0;34m(\u001b[0m\u001b[0;34m\"Invalid Message:\"\u001b[0m\u001b[0;34m,\u001b[0m \u001b[0mexc_info\u001b[0m\u001b[0;34m=\u001b[0m\u001b[0;32mTrue\u001b[0m\u001b[0;34m)\u001b[0m\u001b[0;34m\u001b[0m\u001b[0;34m\u001b[0m\u001b[0m\n",
            "\u001b[0;31mKeyboardInterrupt\u001b[0m: Interrupted by user"
          ]
        }
      ]
    }
  ],
  "metadata": {
    "colab": {
      "provenance": [],
      "mount_file_id": "1o4U2c4OxUn7CiUP8TthE0foQ3-liIGXf",
      "authorship_tag": "ABX9TyOxR25sJ0LLDDa2CPT0ex0y",
      "include_colab_link": true
    },
    "kernelspec": {
      "display_name": "Python 3",
      "name": "python3"
    },
    "language_info": {
      "name": "python"
    }
  },
  "nbformat": 4,
  "nbformat_minor": 0
}